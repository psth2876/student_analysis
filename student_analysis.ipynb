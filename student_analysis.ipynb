{
 "cells": [
  {
   "cell_type": "markdown",
   "id": "b4f6405d-19c5-48dd-ba5e-9e9f92a1a72c",
   "metadata": {
    "pycharm": {
     "name": "#%% md\n"
    }
   },
   "source": [
    "# Import Pandas, Numpy and Matplotlib"
   ]
  },
  {
   "cell_type": "code",
   "execution_count": 1,
   "id": "2750f12f-6e88-4e47-a0f5-14e49826dbb3",
   "metadata": {
    "pycharm": {
     "name": "#%%\n"
    }
   },
   "outputs": [],
   "source": [
    "import pandas as pd \n",
    "import numpy as np\n",
    "import matplotlib.pyplot as mpl\n",
    "import seaborn as sns"
   ]
  },
  {
   "cell_type": "markdown",
   "id": "aca63b9e-8486-41b5-8342-fc75dd65ce96",
   "metadata": {
    "pycharm": {
     "name": "#%% md\n"
    }
   },
   "source": [
    "## Read and store the data from student.csv file"
   ]
  },
  {
   "cell_type": "code",
   "execution_count": 2,
   "id": "6667b733-b62f-47f1-984f-4cace0d948a9",
   "metadata": {
    "pycharm": {
     "name": "#%%\n"
    }
   },
   "outputs": [],
   "source": [
    "# read_csv() It reads data from csv files\n",
    "store= pd.read_csv('Student.csv')"
   ]
  },
  {
   "cell_type": "code",
   "execution_count": 3,
   "id": "32a06075-a151-4361-a573-3d813634dfe5",
   "metadata": {
    "pycharm": {
     "name": "#%%\n"
    }
   },
   "outputs": [
    {
     "data": {
      "text/plain": "  school sex  age address famsize Pstatus                           Medu  \\\n0     GP   F   18       U     GT3       A               higher education   \n1     GP   F   17       U     GT3       T  primary education (4th grade)   \n2     GP   F   15       U     LE3       T  primary education (4th grade)   \n3     GP   F   15       U     GT3       T               higher education   \n4     GP   F   16       U     GT3       T            secondary education   \n\n                            Fedu     Mjob      Fjob  ...     famrel freetime  \\\n0               higher education  at_home   teacher  ...  very good   medium   \n1  primary education (4th grade)  at_home     other  ...  excellent   medium   \n2  primary education (4th grade)  at_home     other  ...  very good   medium   \n3               5th to 9th grade   health  services  ...       good      low   \n4            secondary education    other     other  ...  very good   medium   \n\n    goout      Dalc      Walc     health absences  G1  G2  G3  \n0    high  very low  very low       good        6   5   6   6  \n1  medium  very low  very low       good        4   5   5   6  \n2     low       low    medium       good       10   7   8  10  \n3     low  very low  very low  excellent        2  15  14  15  \n4     low  very low       low  excellent        4   6  10  10  \n\n[5 rows x 33 columns]",
      "text/html": "<div>\n<style scoped>\n    .dataframe tbody tr th:only-of-type {\n        vertical-align: middle;\n    }\n\n    .dataframe tbody tr th {\n        vertical-align: top;\n    }\n\n    .dataframe thead th {\n        text-align: right;\n    }\n</style>\n<table border=\"1\" class=\"dataframe\">\n  <thead>\n    <tr style=\"text-align: right;\">\n      <th></th>\n      <th>school</th>\n      <th>sex</th>\n      <th>age</th>\n      <th>address</th>\n      <th>famsize</th>\n      <th>Pstatus</th>\n      <th>Medu</th>\n      <th>Fedu</th>\n      <th>Mjob</th>\n      <th>Fjob</th>\n      <th>...</th>\n      <th>famrel</th>\n      <th>freetime</th>\n      <th>goout</th>\n      <th>Dalc</th>\n      <th>Walc</th>\n      <th>health</th>\n      <th>absences</th>\n      <th>G1</th>\n      <th>G2</th>\n      <th>G3</th>\n    </tr>\n  </thead>\n  <tbody>\n    <tr>\n      <th>0</th>\n      <td>GP</td>\n      <td>F</td>\n      <td>18</td>\n      <td>U</td>\n      <td>GT3</td>\n      <td>A</td>\n      <td>higher education</td>\n      <td>higher education</td>\n      <td>at_home</td>\n      <td>teacher</td>\n      <td>...</td>\n      <td>very good</td>\n      <td>medium</td>\n      <td>high</td>\n      <td>very low</td>\n      <td>very low</td>\n      <td>good</td>\n      <td>6</td>\n      <td>5</td>\n      <td>6</td>\n      <td>6</td>\n    </tr>\n    <tr>\n      <th>1</th>\n      <td>GP</td>\n      <td>F</td>\n      <td>17</td>\n      <td>U</td>\n      <td>GT3</td>\n      <td>T</td>\n      <td>primary education (4th grade)</td>\n      <td>primary education (4th grade)</td>\n      <td>at_home</td>\n      <td>other</td>\n      <td>...</td>\n      <td>excellent</td>\n      <td>medium</td>\n      <td>medium</td>\n      <td>very low</td>\n      <td>very low</td>\n      <td>good</td>\n      <td>4</td>\n      <td>5</td>\n      <td>5</td>\n      <td>6</td>\n    </tr>\n    <tr>\n      <th>2</th>\n      <td>GP</td>\n      <td>F</td>\n      <td>15</td>\n      <td>U</td>\n      <td>LE3</td>\n      <td>T</td>\n      <td>primary education (4th grade)</td>\n      <td>primary education (4th grade)</td>\n      <td>at_home</td>\n      <td>other</td>\n      <td>...</td>\n      <td>very good</td>\n      <td>medium</td>\n      <td>low</td>\n      <td>low</td>\n      <td>medium</td>\n      <td>good</td>\n      <td>10</td>\n      <td>7</td>\n      <td>8</td>\n      <td>10</td>\n    </tr>\n    <tr>\n      <th>3</th>\n      <td>GP</td>\n      <td>F</td>\n      <td>15</td>\n      <td>U</td>\n      <td>GT3</td>\n      <td>T</td>\n      <td>higher education</td>\n      <td>5th to 9th grade</td>\n      <td>health</td>\n      <td>services</td>\n      <td>...</td>\n      <td>good</td>\n      <td>low</td>\n      <td>low</td>\n      <td>very low</td>\n      <td>very low</td>\n      <td>excellent</td>\n      <td>2</td>\n      <td>15</td>\n      <td>14</td>\n      <td>15</td>\n    </tr>\n    <tr>\n      <th>4</th>\n      <td>GP</td>\n      <td>F</td>\n      <td>16</td>\n      <td>U</td>\n      <td>GT3</td>\n      <td>T</td>\n      <td>secondary education</td>\n      <td>secondary education</td>\n      <td>other</td>\n      <td>other</td>\n      <td>...</td>\n      <td>very good</td>\n      <td>medium</td>\n      <td>low</td>\n      <td>very low</td>\n      <td>low</td>\n      <td>excellent</td>\n      <td>4</td>\n      <td>6</td>\n      <td>10</td>\n      <td>10</td>\n    </tr>\n  </tbody>\n</table>\n<p>5 rows × 33 columns</p>\n</div>"
     },
     "execution_count": 3,
     "metadata": {},
     "output_type": "execute_result"
    }
   ],
   "source": [
    "# head() function gives the first five values \n",
    "store.head()"
   ]
  },
  {
   "cell_type": "markdown",
   "id": "dd1d5d0c-2b22-4bc2-b9a0-a64df0cec642",
   "metadata": {
    "pycharm": {
     "name": "#%% md\n"
    }
   },
   "source": [
    "## 2) Data Transformations"
   ]
  },
  {
   "cell_type": "markdown",
   "id": "a278a65a-3fc1-489a-a35b-f58204701688",
   "metadata": {
    "pycharm": {
     "name": "#%% md\n"
    }
   },
   "source": [
    "### a) Transformation of variables into binary 0 or 1:"
   ]
  },
  {
   "cell_type": "markdown",
   "id": "6335fbaf-59d9-4ac0-a355-2d0ac3bf0df1",
   "metadata": {
    "pycharm": {
     "name": "#%% md\n"
    }
   },
   "source": [
    "### For School"
   ]
  },
  {
   "cell_type": "markdown",
   "id": "a71385f3-3a16-4398-8bff-ec09a90256cf",
   "metadata": {
    "pycharm": {
     "name": "#%% md\n"
    }
   },
   "source": [
    "### Check unique values present inside column school"
   ]
  },
  {
   "cell_type": "code",
   "execution_count": 4,
   "id": "c9ca2d13-5f02-42a7-9e52-616741528cd1",
   "metadata": {
    "pycharm": {
     "name": "#%%\n"
    }
   },
   "outputs": [
    {
     "name": "stdout",
     "output_type": "stream",
     "text": [
      "['GP' 'MS']\n"
     ]
    }
   ],
   "source": [
    "# unique() finds all the unique elements present in column 'school' and returns it in array\n",
    "uni_school=store.school.unique()  \n",
    "print(uni_school)"
   ]
  },
  {
   "cell_type": "markdown",
   "id": "4543da2a-11c4-4c05-a3fd-058e221fe6b7",
   "metadata": {
    "pycharm": {
     "name": "#%% md\n"
    }
   },
   "source": [
    "### Convert school values into Binary values"
   ]
  },
  {
   "cell_type": "code",
   "execution_count": 5,
   "id": "7c765d8f-4b1c-4920-b193-30df49cd13df",
   "metadata": {
    "pycharm": {
     "name": "#%%\n"
    }
   },
   "outputs": [
    {
     "data": {
      "text/plain": "  school  school_output\n0     GP              1\n1     GP              1\n2     GP              1\n3     GP              1\n4     GP              1",
      "text/html": "<div>\n<style scoped>\n    .dataframe tbody tr th:only-of-type {\n        vertical-align: middle;\n    }\n\n    .dataframe tbody tr th {\n        vertical-align: top;\n    }\n\n    .dataframe thead th {\n        text-align: right;\n    }\n</style>\n<table border=\"1\" class=\"dataframe\">\n  <thead>\n    <tr style=\"text-align: right;\">\n      <th></th>\n      <th>school</th>\n      <th>school_output</th>\n    </tr>\n  </thead>\n  <tbody>\n    <tr>\n      <th>0</th>\n      <td>GP</td>\n      <td>1</td>\n    </tr>\n    <tr>\n      <th>1</th>\n      <td>GP</td>\n      <td>1</td>\n    </tr>\n    <tr>\n      <th>2</th>\n      <td>GP</td>\n      <td>1</td>\n    </tr>\n    <tr>\n      <th>3</th>\n      <td>GP</td>\n      <td>1</td>\n    </tr>\n    <tr>\n      <th>4</th>\n      <td>GP</td>\n      <td>1</td>\n    </tr>\n  </tbody>\n</table>\n</div>"
     },
     "execution_count": 5,
     "metadata": {},
     "output_type": "execute_result"
    }
   ],
   "source": [
    "# replace() replaces unique values inside 'school' to binary values 0 or 1\n",
    "# concat() concatenates 'school' with 'school_output' column \n",
    "# rename() It renames the output column.\n",
    "# axis =1 It specifies the axis along columns\n",
    "conversion_school = store.school.replace((uni_school), (1,0))\n",
    "school_con = pd.concat((store[['school']], conversion_school.rename('school_output')), axis=1)\n",
    "school_con.head()"
   ]
  },
  {
   "cell_type": "markdown",
   "id": "d3ce9845-a18e-4940-888c-e1f48ad57a84",
   "metadata": {
    "pycharm": {
     "name": "#%% md\n"
    }
   },
   "source": [
    "### For Sex"
   ]
  },
  {
   "cell_type": "markdown",
   "id": "0043e658-2385-4d21-bc4e-e9eea760d818",
   "metadata": {
    "pycharm": {
     "name": "#%% md\n"
    }
   },
   "source": [
    "### Check unique values present inside column sex"
   ]
  },
  {
   "cell_type": "code",
   "execution_count": 6,
   "id": "e155d78b-239b-4513-932e-5beb51276b67",
   "metadata": {
    "pycharm": {
     "name": "#%%\n"
    }
   },
   "outputs": [
    {
     "name": "stdout",
     "output_type": "stream",
     "text": [
      "['F' 'M']\n"
     ]
    }
   ],
   "source": [
    "# unique() finds all the unique elements present in column 'sex' and returns it in array\n",
    "unique_sex=store.sex.unique()\n",
    "print(unique_sex)"
   ]
  },
  {
   "cell_type": "markdown",
   "id": "47cb68aa-58ba-4895-a51b-92520054bfc3",
   "metadata": {
    "pycharm": {
     "name": "#%% md\n"
    }
   },
   "source": [
    "### Convert sex values into Binary values"
   ]
  },
  {
   "cell_type": "code",
   "execution_count": 7,
   "id": "a44c2c62-9874-4359-bb92-19bb0e47fdc3",
   "metadata": {
    "pycharm": {
     "name": "#%%\n"
    }
   },
   "outputs": [
    {
     "data": {
      "text/plain": "  sex  sex_output\n0   F           1\n1   F           1\n2   F           1\n3   F           1\n4   F           1",
      "text/html": "<div>\n<style scoped>\n    .dataframe tbody tr th:only-of-type {\n        vertical-align: middle;\n    }\n\n    .dataframe tbody tr th {\n        vertical-align: top;\n    }\n\n    .dataframe thead th {\n        text-align: right;\n    }\n</style>\n<table border=\"1\" class=\"dataframe\">\n  <thead>\n    <tr style=\"text-align: right;\">\n      <th></th>\n      <th>sex</th>\n      <th>sex_output</th>\n    </tr>\n  </thead>\n  <tbody>\n    <tr>\n      <th>0</th>\n      <td>F</td>\n      <td>1</td>\n    </tr>\n    <tr>\n      <th>1</th>\n      <td>F</td>\n      <td>1</td>\n    </tr>\n    <tr>\n      <th>2</th>\n      <td>F</td>\n      <td>1</td>\n    </tr>\n    <tr>\n      <th>3</th>\n      <td>F</td>\n      <td>1</td>\n    </tr>\n    <tr>\n      <th>4</th>\n      <td>F</td>\n      <td>1</td>\n    </tr>\n  </tbody>\n</table>\n</div>"
     },
     "execution_count": 7,
     "metadata": {},
     "output_type": "execute_result"
    }
   ],
   "source": [
    "# replace() replaces unique values inside 'sex' to binary values 0 or 1\n",
    "# concat() concatenates 'sex' with 'sex_output' column\n",
    "# rename() It renames the output column.\n",
    "# axis =1 It specifies the axis along columns.\n",
    "conversion_sex=store.sex.replace((unique_sex),(1,0))\n",
    "sex_con = pd.concat((store[['sex']],conversion_sex.rename('sex_output')),axis=1)\n",
    "sex_con.head()"
   ]
  },
  {
   "cell_type": "markdown",
   "id": "f1c56fea-87ec-4f46-8b96-3fdeca3a6623",
   "metadata": {
    "pycharm": {
     "name": "#%% md\n"
    }
   },
   "source": [
    "### For Address"
   ]
  },
  {
   "cell_type": "markdown",
   "id": "2056b828-5a1d-491d-93e5-188a0a21c546",
   "metadata": {
    "pycharm": {
     "name": "#%% md\n"
    }
   },
   "source": [
    "### Check unique values present inside column address"
   ]
  },
  {
   "cell_type": "code",
   "execution_count": 8,
   "id": "d88e74db-cb8a-4c12-8ede-48797397918a",
   "metadata": {
    "pycharm": {
     "name": "#%%\n"
    }
   },
   "outputs": [
    {
     "name": "stdout",
     "output_type": "stream",
     "text": [
      "['U' 'R']\n"
     ]
    }
   ],
   "source": [
    "# unique() finds all the unique elements present in column 'address' and returns it in array\n",
    "unique_address=store.address.unique()\n",
    "print(unique_address)"
   ]
  },
  {
   "cell_type": "code",
   "execution_count": 9,
   "id": "75bd0722-0ebb-4c19-8e69-2ed180007206",
   "metadata": {
    "pycharm": {
     "name": "#%%\n"
    }
   },
   "outputs": [
    {
     "data": {
      "text/plain": "  address  address_output\n0       U               1\n1       U               1\n2       U               1\n3       U               1\n4       U               1",
      "text/html": "<div>\n<style scoped>\n    .dataframe tbody tr th:only-of-type {\n        vertical-align: middle;\n    }\n\n    .dataframe tbody tr th {\n        vertical-align: top;\n    }\n\n    .dataframe thead th {\n        text-align: right;\n    }\n</style>\n<table border=\"1\" class=\"dataframe\">\n  <thead>\n    <tr style=\"text-align: right;\">\n      <th></th>\n      <th>address</th>\n      <th>address_output</th>\n    </tr>\n  </thead>\n  <tbody>\n    <tr>\n      <th>0</th>\n      <td>U</td>\n      <td>1</td>\n    </tr>\n    <tr>\n      <th>1</th>\n      <td>U</td>\n      <td>1</td>\n    </tr>\n    <tr>\n      <th>2</th>\n      <td>U</td>\n      <td>1</td>\n    </tr>\n    <tr>\n      <th>3</th>\n      <td>U</td>\n      <td>1</td>\n    </tr>\n    <tr>\n      <th>4</th>\n      <td>U</td>\n      <td>1</td>\n    </tr>\n  </tbody>\n</table>\n</div>"
     },
     "execution_count": 9,
     "metadata": {},
     "output_type": "execute_result"
    }
   ],
   "source": [
    "# replace() replaces unique values inside 'address' to binary values 0 or 1\n",
    "# concat() concatenates 'address' with 'address_output' column\n",
    "# rename() It renames the output column.\n",
    "# axis =1 It specifies the axis along columns.\n",
    "conversion_address=store.address.replace((unique_address),(1,0))\n",
    "address_con = pd.concat((store[['address']],conversion_address.rename('address_output')),axis=1)\n",
    "address_con.head()"
   ]
  },
  {
   "cell_type": "markdown",
   "id": "c5515115-b0e4-4e31-a3c3-df8f73d61800",
   "metadata": {
    "pycharm": {
     "name": "#%% md\n"
    }
   },
   "source": [
    "### For Famsize"
   ]
  },
  {
   "cell_type": "markdown",
   "id": "3b4d191a-deb7-4e67-a0d5-addd0e61d9ec",
   "metadata": {
    "pycharm": {
     "name": "#%% md\n"
    }
   },
   "source": [
    "### Check unique values present inside column famsize"
   ]
  },
  {
   "cell_type": "code",
   "execution_count": 10,
   "id": "31961a8d-07e0-444c-8a92-f96ae6bf9f47",
   "metadata": {
    "pycharm": {
     "name": "#%%\n"
    }
   },
   "outputs": [
    {
     "name": "stdout",
     "output_type": "stream",
     "text": [
      "['GT3' 'LE3']\n"
     ]
    }
   ],
   "source": [
    "# unique() finds all the unique elements present in column 'famsize' and returns it in array\n",
    "unique_famsize=store.famsize.unique()\n",
    "print(unique_famsize)"
   ]
  },
  {
   "cell_type": "code",
   "execution_count": 11,
   "id": "9cfeeeba-f34c-43d3-a2ec-05cb31b210ef",
   "metadata": {
    "pycharm": {
     "name": "#%%\n"
    }
   },
   "outputs": [
    {
     "data": {
      "text/plain": "  famsize  famsize_output\n0     GT3               1\n1     GT3               1\n2     LE3               0\n3     GT3               1\n4     GT3               1",
      "text/html": "<div>\n<style scoped>\n    .dataframe tbody tr th:only-of-type {\n        vertical-align: middle;\n    }\n\n    .dataframe tbody tr th {\n        vertical-align: top;\n    }\n\n    .dataframe thead th {\n        text-align: right;\n    }\n</style>\n<table border=\"1\" class=\"dataframe\">\n  <thead>\n    <tr style=\"text-align: right;\">\n      <th></th>\n      <th>famsize</th>\n      <th>famsize_output</th>\n    </tr>\n  </thead>\n  <tbody>\n    <tr>\n      <th>0</th>\n      <td>GT3</td>\n      <td>1</td>\n    </tr>\n    <tr>\n      <th>1</th>\n      <td>GT3</td>\n      <td>1</td>\n    </tr>\n    <tr>\n      <th>2</th>\n      <td>LE3</td>\n      <td>0</td>\n    </tr>\n    <tr>\n      <th>3</th>\n      <td>GT3</td>\n      <td>1</td>\n    </tr>\n    <tr>\n      <th>4</th>\n      <td>GT3</td>\n      <td>1</td>\n    </tr>\n  </tbody>\n</table>\n</div>"
     },
     "execution_count": 11,
     "metadata": {},
     "output_type": "execute_result"
    }
   ],
   "source": [
    "# replace() replaces unique values inside 'famsize' to binary values 0 or 1\n",
    "# concat() concatenates 'famsize' with 'famsize_output' column\n",
    "# rename() It renames the output column.\n",
    "# axis =1 It specifies the axis along columns.\n",
    "conversion_famsize=store.famsize.replace((unique_famsize),(1,0))\n",
    "famsize_con = pd.concat((store[['famsize']],conversion_famsize.rename('famsize_output')),axis=1)\n",
    "famsize_con.head()"
   ]
  },
  {
   "cell_type": "markdown",
   "id": "441aa212-4824-4993-b0ba-45bdf09a6920",
   "metadata": {
    "pycharm": {
     "name": "#%% md\n"
    }
   },
   "source": [
    "### For Pstatus"
   ]
  },
  {
   "cell_type": "markdown",
   "id": "10765451-d2b2-4b64-9b5d-2de275cbfe1e",
   "metadata": {
    "pycharm": {
     "name": "#%% md\n"
    }
   },
   "source": [
    "### Check unique values present inside column pstatus"
   ]
  },
  {
   "cell_type": "code",
   "execution_count": 12,
   "id": "0c751a50-bc33-4089-b7a1-5acb88c8473f",
   "metadata": {
    "pycharm": {
     "name": "#%%\n"
    }
   },
   "outputs": [
    {
     "name": "stdout",
     "output_type": "stream",
     "text": [
      "['A' 'T']\n"
     ]
    }
   ],
   "source": [
    "# unique() finds all the unique elements present in column 'pstatus' and returns it in array\n",
    "unique_pstatus=store.Pstatus.unique()\n",
    "print(unique_pstatus)"
   ]
  },
  {
   "cell_type": "code",
   "execution_count": 13,
   "id": "df50d1cc-59b4-428c-92d4-41da3f210aaf",
   "metadata": {
    "pycharm": {
     "name": "#%%\n"
    }
   },
   "outputs": [
    {
     "data": {
      "text/plain": "  Pstatus  Pstatus_output\n0       A               1\n1       T               0\n2       T               0\n3       T               0\n4       T               0",
      "text/html": "<div>\n<style scoped>\n    .dataframe tbody tr th:only-of-type {\n        vertical-align: middle;\n    }\n\n    .dataframe tbody tr th {\n        vertical-align: top;\n    }\n\n    .dataframe thead th {\n        text-align: right;\n    }\n</style>\n<table border=\"1\" class=\"dataframe\">\n  <thead>\n    <tr style=\"text-align: right;\">\n      <th></th>\n      <th>Pstatus</th>\n      <th>Pstatus_output</th>\n    </tr>\n  </thead>\n  <tbody>\n    <tr>\n      <th>0</th>\n      <td>A</td>\n      <td>1</td>\n    </tr>\n    <tr>\n      <th>1</th>\n      <td>T</td>\n      <td>0</td>\n    </tr>\n    <tr>\n      <th>2</th>\n      <td>T</td>\n      <td>0</td>\n    </tr>\n    <tr>\n      <th>3</th>\n      <td>T</td>\n      <td>0</td>\n    </tr>\n    <tr>\n      <th>4</th>\n      <td>T</td>\n      <td>0</td>\n    </tr>\n  </tbody>\n</table>\n</div>"
     },
     "execution_count": 13,
     "metadata": {},
     "output_type": "execute_result"
    }
   ],
   "source": [
    "# replace() replaces unique values inside 'pstatus' to binary values 0 or 1\n",
    "# concat() concatenates 'pstatus' with 'pstatus_output' column\n",
    "# rename() It renames the output column.\n",
    "# axis =1 It specifies the axis along columns\n",
    "conversion_pstatus=store.Pstatus.replace((unique_pstatus),(1,0))\n",
    "Pstatus_con = pd.concat((store[['Pstatus']],conversion_pstatus.rename('Pstatus_output')),axis=1)\n",
    "Pstatus_con.head()"
   ]
  },
  {
   "cell_type": "markdown",
   "id": "662b18a5-8921-4fa7-ba69-9c58a08cef7a",
   "metadata": {
    "pycharm": {
     "name": "#%% md\n"
    }
   },
   "source": [
    "### For Schoolsup"
   ]
  },
  {
   "cell_type": "markdown",
   "id": "4306b294-a20c-4135-99d5-6c115065eb49",
   "metadata": {
    "tags": [],
    "pycharm": {
     "name": "#%% md\n"
    }
   },
   "source": [
    "### Check unique values present inside column schoolsup"
   ]
  },
  {
   "cell_type": "code",
   "execution_count": 14,
   "id": "467559ce-eb01-42bd-9758-56d69d977fd0",
   "metadata": {
    "pycharm": {
     "name": "#%%\n"
    }
   },
   "outputs": [
    {
     "name": "stdout",
     "output_type": "stream",
     "text": [
      "['yes' 'no']\n"
     ]
    }
   ],
   "source": [
    "# unique() finds all the unique elements present in column 'schoolsup' and returns it in array\n",
    "unique_schoolsup=store.schoolsup.unique()\n",
    "print(unique_schoolsup)"
   ]
  },
  {
   "cell_type": "code",
   "execution_count": 15,
   "id": "6c79bf2d-5df3-4419-8ebd-6363d5d651e8",
   "metadata": {
    "pycharm": {
     "name": "#%%\n"
    }
   },
   "outputs": [
    {
     "data": {
      "text/plain": "  schoolsup  Schoolsups_output\n0       yes                  1\n1        no                  0\n2       yes                  1\n3        no                  0\n4        no                  0",
      "text/html": "<div>\n<style scoped>\n    .dataframe tbody tr th:only-of-type {\n        vertical-align: middle;\n    }\n\n    .dataframe tbody tr th {\n        vertical-align: top;\n    }\n\n    .dataframe thead th {\n        text-align: right;\n    }\n</style>\n<table border=\"1\" class=\"dataframe\">\n  <thead>\n    <tr style=\"text-align: right;\">\n      <th></th>\n      <th>schoolsup</th>\n      <th>Schoolsups_output</th>\n    </tr>\n  </thead>\n  <tbody>\n    <tr>\n      <th>0</th>\n      <td>yes</td>\n      <td>1</td>\n    </tr>\n    <tr>\n      <th>1</th>\n      <td>no</td>\n      <td>0</td>\n    </tr>\n    <tr>\n      <th>2</th>\n      <td>yes</td>\n      <td>1</td>\n    </tr>\n    <tr>\n      <th>3</th>\n      <td>no</td>\n      <td>0</td>\n    </tr>\n    <tr>\n      <th>4</th>\n      <td>no</td>\n      <td>0</td>\n    </tr>\n  </tbody>\n</table>\n</div>"
     },
     "execution_count": 15,
     "metadata": {},
     "output_type": "execute_result"
    }
   ],
   "source": [
    "# replace() replaces unique values inside 'schoolsup' to binary values 0 or 1\n",
    "# concat() concatenates 'schoolsup' with 'schoolsup_output' column\n",
    "# rename() It renames the output column.\n",
    "# axis =1 It specifies the axis along columns\n",
    "conversion_schoolsup=store.schoolsup.replace((unique_schoolsup),(1,0))\n",
    "schoolsup_con = pd.concat((store[['schoolsup']],conversion_schoolsup.rename('Schoolsups_output')),axis=1)\n",
    "schoolsup_con.head()"
   ]
  },
  {
   "cell_type": "markdown",
   "id": "8743dfe3-9785-4ebd-99c1-7ca6407ffde1",
   "metadata": {
    "pycharm": {
     "name": "#%% md\n"
    }
   },
   "source": [
    "### For Famsup"
   ]
  },
  {
   "cell_type": "markdown",
   "id": "68a88d1d-7a90-494b-86c9-385c504934fb",
   "metadata": {
    "pycharm": {
     "name": "#%% md\n"
    }
   },
   "source": [
    "### Check unique values present inside column famsup"
   ]
  },
  {
   "cell_type": "code",
   "execution_count": 16,
   "id": "a95ebdd6-638f-40cf-910f-93ef6ca555fa",
   "metadata": {
    "pycharm": {
     "name": "#%%\n"
    }
   },
   "outputs": [
    {
     "name": "stdout",
     "output_type": "stream",
     "text": [
      "['no' 'yes']\n"
     ]
    }
   ],
   "source": [
    "# unique() finds all the unique elements present in column 'famsup' and returns it in array\n",
    "unique_famsup=store.famsup.unique()\n",
    "print(unique_famsup)"
   ]
  },
  {
   "cell_type": "code",
   "execution_count": 17,
   "id": "e976fc78-1c2e-4005-a774-605b63d90505",
   "metadata": {
    "pycharm": {
     "name": "#%%\n"
    }
   },
   "outputs": [
    {
     "data": {
      "text/plain": "  famsup  famsup_output\n0     no              1\n1    yes              0\n2     no              1\n3    yes              0\n4    yes              0",
      "text/html": "<div>\n<style scoped>\n    .dataframe tbody tr th:only-of-type {\n        vertical-align: middle;\n    }\n\n    .dataframe tbody tr th {\n        vertical-align: top;\n    }\n\n    .dataframe thead th {\n        text-align: right;\n    }\n</style>\n<table border=\"1\" class=\"dataframe\">\n  <thead>\n    <tr style=\"text-align: right;\">\n      <th></th>\n      <th>famsup</th>\n      <th>famsup_output</th>\n    </tr>\n  </thead>\n  <tbody>\n    <tr>\n      <th>0</th>\n      <td>no</td>\n      <td>1</td>\n    </tr>\n    <tr>\n      <th>1</th>\n      <td>yes</td>\n      <td>0</td>\n    </tr>\n    <tr>\n      <th>2</th>\n      <td>no</td>\n      <td>1</td>\n    </tr>\n    <tr>\n      <th>3</th>\n      <td>yes</td>\n      <td>0</td>\n    </tr>\n    <tr>\n      <th>4</th>\n      <td>yes</td>\n      <td>0</td>\n    </tr>\n  </tbody>\n</table>\n</div>"
     },
     "execution_count": 17,
     "metadata": {},
     "output_type": "execute_result"
    }
   ],
   "source": [
    "# replace() replaces unique values inside 'famsup' to binary values 0 or 1\n",
    "# concat() concatenates 'famsup' with 'famsup_output' column\n",
    "# rename() It renames the output column.\n",
    "# axis =1 It specifies the axis along columns\n",
    "conversion_famsup=store.famsup.replace((unique_famsup),(1,0))\n",
    "famsup_con = pd.concat((store[['famsup']],conversion_famsup.rename('famsup_output')),axis=1)\n",
    "famsup_con.head()"
   ]
  },
  {
   "cell_type": "markdown",
   "id": "22f9d9a4-5501-4ac2-8e80-05b8f3c1a3c5",
   "metadata": {
    "pycharm": {
     "name": "#%% md\n"
    }
   },
   "source": [
    "### For Paid"
   ]
  },
  {
   "cell_type": "markdown",
   "id": "e750d84a-e146-4b04-9732-28cb71d40fb6",
   "metadata": {
    "pycharm": {
     "name": "#%% md\n"
    }
   },
   "source": [
    "### Check unique values present inside column paid"
   ]
  },
  {
   "cell_type": "code",
   "execution_count": 18,
   "id": "bfbedef6-c86d-4171-a7d7-825907c464c4",
   "metadata": {
    "pycharm": {
     "name": "#%%\n"
    }
   },
   "outputs": [
    {
     "name": "stdout",
     "output_type": "stream",
     "text": [
      "['no' 'yes']\n"
     ]
    }
   ],
   "source": [
    "# unique() finds all the unique elements present in column 'paid' and returns it in array\n",
    "unique_paid=store.paid.unique()\n",
    "print(unique_paid)"
   ]
  },
  {
   "cell_type": "code",
   "execution_count": 19,
   "id": "fceb3fee-8243-49dd-813c-bf047aa2c0fc",
   "metadata": {
    "pycharm": {
     "name": "#%%\n"
    }
   },
   "outputs": [
    {
     "data": {
      "text/plain": "  paid  paid_output\n0   no            1\n1   no            1\n2  yes            0\n3  yes            0\n4  yes            0",
      "text/html": "<div>\n<style scoped>\n    .dataframe tbody tr th:only-of-type {\n        vertical-align: middle;\n    }\n\n    .dataframe tbody tr th {\n        vertical-align: top;\n    }\n\n    .dataframe thead th {\n        text-align: right;\n    }\n</style>\n<table border=\"1\" class=\"dataframe\">\n  <thead>\n    <tr style=\"text-align: right;\">\n      <th></th>\n      <th>paid</th>\n      <th>paid_output</th>\n    </tr>\n  </thead>\n  <tbody>\n    <tr>\n      <th>0</th>\n      <td>no</td>\n      <td>1</td>\n    </tr>\n    <tr>\n      <th>1</th>\n      <td>no</td>\n      <td>1</td>\n    </tr>\n    <tr>\n      <th>2</th>\n      <td>yes</td>\n      <td>0</td>\n    </tr>\n    <tr>\n      <th>3</th>\n      <td>yes</td>\n      <td>0</td>\n    </tr>\n    <tr>\n      <th>4</th>\n      <td>yes</td>\n      <td>0</td>\n    </tr>\n  </tbody>\n</table>\n</div>"
     },
     "execution_count": 19,
     "metadata": {},
     "output_type": "execute_result"
    }
   ],
   "source": [
    "# replace() replaces unique values inside 'paid' to binary values 0 or 1\n",
    "# concat() concatenates 'paid' with 'paid_output' column\n",
    "# rename() It renames the output column.\n",
    "# axis =1 It specifies the axis along columns\n",
    "conversion_paid=store.paid.replace((unique_paid),(1,0))\n",
    "paid_con = pd.concat((store[['paid']],conversion_paid.rename('paid_output')),axis=1)\n",
    "paid_con.head()"
   ]
  },
  {
   "cell_type": "markdown",
   "id": "104cb6a9-90d7-4672-b29e-d5b3fe83609f",
   "metadata": {
    "pycharm": {
     "name": "#%% md\n"
    }
   },
   "source": [
    "### For Activities"
   ]
  },
  {
   "cell_type": "markdown",
   "id": "ba23a346-899c-407b-a786-d5c87020fced",
   "metadata": {
    "pycharm": {
     "name": "#%% md\n"
    }
   },
   "source": [
    "### Check unique values present inside column activities"
   ]
  },
  {
   "cell_type": "code",
   "execution_count": 20,
   "id": "c8661ad4-391c-4278-8d15-f501dd9d3831",
   "metadata": {
    "pycharm": {
     "name": "#%%\n"
    }
   },
   "outputs": [
    {
     "name": "stdout",
     "output_type": "stream",
     "text": [
      "['no' 'yes']\n"
     ]
    }
   ],
   "source": [
    "# unique() finds all the unique elements present in column 'activities' and returns it in array\n",
    "unique_activities=store.activities.unique()\n",
    "print(unique_activities)"
   ]
  },
  {
   "cell_type": "code",
   "execution_count": 21,
   "id": "b2dd7214-b442-422b-88c3-860185413a3d",
   "metadata": {
    "pycharm": {
     "name": "#%%\n"
    }
   },
   "outputs": [
    {
     "data": {
      "text/plain": "  activities  activities_output\n0         no                  1\n1         no                  1\n2         no                  1\n3        yes                  0\n4         no                  1",
      "text/html": "<div>\n<style scoped>\n    .dataframe tbody tr th:only-of-type {\n        vertical-align: middle;\n    }\n\n    .dataframe tbody tr th {\n        vertical-align: top;\n    }\n\n    .dataframe thead th {\n        text-align: right;\n    }\n</style>\n<table border=\"1\" class=\"dataframe\">\n  <thead>\n    <tr style=\"text-align: right;\">\n      <th></th>\n      <th>activities</th>\n      <th>activities_output</th>\n    </tr>\n  </thead>\n  <tbody>\n    <tr>\n      <th>0</th>\n      <td>no</td>\n      <td>1</td>\n    </tr>\n    <tr>\n      <th>1</th>\n      <td>no</td>\n      <td>1</td>\n    </tr>\n    <tr>\n      <th>2</th>\n      <td>no</td>\n      <td>1</td>\n    </tr>\n    <tr>\n      <th>3</th>\n      <td>yes</td>\n      <td>0</td>\n    </tr>\n    <tr>\n      <th>4</th>\n      <td>no</td>\n      <td>1</td>\n    </tr>\n  </tbody>\n</table>\n</div>"
     },
     "execution_count": 21,
     "metadata": {},
     "output_type": "execute_result"
    }
   ],
   "source": [
    "# replace() replaces unique values inside 'activities' to binary values 0 or 1\n",
    "# concat() concatenates 'activities' with 'activities_output' column\n",
    "# rename() It renames the output column.\n",
    "# axis =1 It specifies the axis along columns\n",
    "conversion_activities=store.activities.replace((unique_activities),(1,0))\n",
    "activities_con = pd.concat((store[['activities']],conversion_activities.rename('activities_output')),axis=1)\n",
    "activities_con.head()"
   ]
  },
  {
   "cell_type": "markdown",
   "id": "bc756d19-56ef-443a-b669-fb16747aebaf",
   "metadata": {
    "pycharm": {
     "name": "#%% md\n"
    }
   },
   "source": [
    "### For Nursery"
   ]
  },
  {
   "cell_type": "markdown",
   "id": "ca488452-fc51-4268-86de-da597835640a",
   "metadata": {
    "pycharm": {
     "name": "#%% md\n"
    }
   },
   "source": [
    "### Check unique values present inside column nursery"
   ]
  },
  {
   "cell_type": "code",
   "execution_count": 22,
   "id": "617bd3af-7088-499d-ba32-2d5982687486",
   "metadata": {
    "pycharm": {
     "name": "#%%\n"
    }
   },
   "outputs": [
    {
     "name": "stdout",
     "output_type": "stream",
     "text": [
      "['yes' 'no']\n"
     ]
    }
   ],
   "source": [
    "# unique() finds all the unique elements present in column 'nursery' and returns it in array\n",
    "unique_nursery=store.nursery.unique()\n",
    "print(unique_nursery)"
   ]
  },
  {
   "cell_type": "code",
   "execution_count": 23,
   "id": "f898508a-97b9-4945-8577-18d531865125",
   "metadata": {
    "pycharm": {
     "name": "#%%\n"
    }
   },
   "outputs": [
    {
     "data": {
      "text/plain": "  nursery  nursery_output\n0     yes               1\n1      no               0\n2     yes               1\n3     yes               1\n4     yes               1",
      "text/html": "<div>\n<style scoped>\n    .dataframe tbody tr th:only-of-type {\n        vertical-align: middle;\n    }\n\n    .dataframe tbody tr th {\n        vertical-align: top;\n    }\n\n    .dataframe thead th {\n        text-align: right;\n    }\n</style>\n<table border=\"1\" class=\"dataframe\">\n  <thead>\n    <tr style=\"text-align: right;\">\n      <th></th>\n      <th>nursery</th>\n      <th>nursery_output</th>\n    </tr>\n  </thead>\n  <tbody>\n    <tr>\n      <th>0</th>\n      <td>yes</td>\n      <td>1</td>\n    </tr>\n    <tr>\n      <th>1</th>\n      <td>no</td>\n      <td>0</td>\n    </tr>\n    <tr>\n      <th>2</th>\n      <td>yes</td>\n      <td>1</td>\n    </tr>\n    <tr>\n      <th>3</th>\n      <td>yes</td>\n      <td>1</td>\n    </tr>\n    <tr>\n      <th>4</th>\n      <td>yes</td>\n      <td>1</td>\n    </tr>\n  </tbody>\n</table>\n</div>"
     },
     "execution_count": 23,
     "metadata": {},
     "output_type": "execute_result"
    }
   ],
   "source": [
    "# replace() replaces unique values inside 'nursery' to binary values 0 or 1\n",
    "# concat() concatenates 'nursery' with 'nursery_output' column\n",
    "# rename() It renames the output column.\n",
    "# axis =1 It specifies the axis along columns\n",
    "conversion_nursery=store.nursery.replace((unique_nursery),(1,0))\n",
    "nursery_con = pd.concat((store[['nursery']],conversion_nursery.rename('nursery_output')),axis=1)\n",
    "nursery_con.head()"
   ]
  },
  {
   "cell_type": "markdown",
   "id": "452e2507-8872-4d34-bc40-d10afd5533d5",
   "metadata": {
    "pycharm": {
     "name": "#%% md\n"
    }
   },
   "source": [
    "### For Higher"
   ]
  },
  {
   "cell_type": "markdown",
   "id": "a7e53cf7-09ac-4a55-b503-dc4609bfd438",
   "metadata": {
    "pycharm": {
     "name": "#%% md\n"
    }
   },
   "source": [
    "### Check unique values present inside column higher"
   ]
  },
  {
   "cell_type": "code",
   "execution_count": 24,
   "id": "2d8978aa-f7c8-40fa-bb1e-23b1bbf16e46",
   "metadata": {
    "pycharm": {
     "name": "#%%\n"
    }
   },
   "outputs": [
    {
     "name": "stdout",
     "output_type": "stream",
     "text": [
      "['yes' 'no']\n"
     ]
    }
   ],
   "source": [
    "# unique() finds all the unique elements present in column 'higher' and returns it in array\n",
    "unique_higher=store.higher.unique()\n",
    "print(unique_higher)"
   ]
  },
  {
   "cell_type": "code",
   "execution_count": 25,
   "id": "92a60678-0c24-4c2a-be1e-779cbcebae72",
   "metadata": {
    "pycharm": {
     "name": "#%%\n"
    }
   },
   "outputs": [
    {
     "data": {
      "text/plain": "  higher  higher_output\n0    yes              1\n1    yes              1\n2    yes              1\n3    yes              1\n4    yes              1",
      "text/html": "<div>\n<style scoped>\n    .dataframe tbody tr th:only-of-type {\n        vertical-align: middle;\n    }\n\n    .dataframe tbody tr th {\n        vertical-align: top;\n    }\n\n    .dataframe thead th {\n        text-align: right;\n    }\n</style>\n<table border=\"1\" class=\"dataframe\">\n  <thead>\n    <tr style=\"text-align: right;\">\n      <th></th>\n      <th>higher</th>\n      <th>higher_output</th>\n    </tr>\n  </thead>\n  <tbody>\n    <tr>\n      <th>0</th>\n      <td>yes</td>\n      <td>1</td>\n    </tr>\n    <tr>\n      <th>1</th>\n      <td>yes</td>\n      <td>1</td>\n    </tr>\n    <tr>\n      <th>2</th>\n      <td>yes</td>\n      <td>1</td>\n    </tr>\n    <tr>\n      <th>3</th>\n      <td>yes</td>\n      <td>1</td>\n    </tr>\n    <tr>\n      <th>4</th>\n      <td>yes</td>\n      <td>1</td>\n    </tr>\n  </tbody>\n</table>\n</div>"
     },
     "execution_count": 25,
     "metadata": {},
     "output_type": "execute_result"
    }
   ],
   "source": [
    "# replace() replaces unique values inside 'higher' to binary values 0 or 1\n",
    "# concat() concatenates 'higher' with 'higher_output' column\n",
    "# rename() It renames the output column.\n",
    "# axis =1 It specifies the axis along columns\n",
    "conversion_higher=store.higher.replace((unique_nursery),(1,0))\n",
    "higher_con = pd.concat((store[['higher']],conversion_higher.rename('higher_output')),axis=1)\n",
    "higher_con.head()"
   ]
  },
  {
   "cell_type": "markdown",
   "id": "c4093bf5-e828-4353-81be-10fe561b9054",
   "metadata": {
    "pycharm": {
     "name": "#%% md\n"
    }
   },
   "source": [
    "### For Internet"
   ]
  },
  {
   "cell_type": "markdown",
   "id": "ed0ecf13-8d6a-46e3-a3bd-6edb4273228e",
   "metadata": {
    "pycharm": {
     "name": "#%% md\n"
    }
   },
   "source": [
    "### Check unique values present inside column internet"
   ]
  },
  {
   "cell_type": "code",
   "execution_count": 26,
   "id": "fcb91780-4cc7-457a-81a9-e9fb31fc8d57",
   "metadata": {
    "pycharm": {
     "name": "#%%\n"
    }
   },
   "outputs": [
    {
     "name": "stdout",
     "output_type": "stream",
     "text": [
      "['no' 'yes']\n"
     ]
    }
   ],
   "source": [
    "# unique() finds all the unique elements present in column 'internet' and returns it in array\n",
    "unique_internet=store.internet.unique()\n",
    "print(unique_internet)"
   ]
  },
  {
   "cell_type": "code",
   "execution_count": 27,
   "id": "29bfedda-d531-4cff-8529-9b63aa54759f",
   "metadata": {
    "pycharm": {
     "name": "#%%\n"
    }
   },
   "outputs": [
    {
     "data": {
      "text/plain": "  internet  internet_output\n0       no                1\n1      yes                0\n2      yes                0\n3      yes                0\n4       no                1",
      "text/html": "<div>\n<style scoped>\n    .dataframe tbody tr th:only-of-type {\n        vertical-align: middle;\n    }\n\n    .dataframe tbody tr th {\n        vertical-align: top;\n    }\n\n    .dataframe thead th {\n        text-align: right;\n    }\n</style>\n<table border=\"1\" class=\"dataframe\">\n  <thead>\n    <tr style=\"text-align: right;\">\n      <th></th>\n      <th>internet</th>\n      <th>internet_output</th>\n    </tr>\n  </thead>\n  <tbody>\n    <tr>\n      <th>0</th>\n      <td>no</td>\n      <td>1</td>\n    </tr>\n    <tr>\n      <th>1</th>\n      <td>yes</td>\n      <td>0</td>\n    </tr>\n    <tr>\n      <th>2</th>\n      <td>yes</td>\n      <td>0</td>\n    </tr>\n    <tr>\n      <th>3</th>\n      <td>yes</td>\n      <td>0</td>\n    </tr>\n    <tr>\n      <th>4</th>\n      <td>no</td>\n      <td>1</td>\n    </tr>\n  </tbody>\n</table>\n</div>"
     },
     "execution_count": 27,
     "metadata": {},
     "output_type": "execute_result"
    }
   ],
   "source": [
    "# replace() replaces unique values inside 'internet' to binary values 0 or 1\n",
    "# concat() concatenates 'internet' with 'internet_output' column\n",
    "# rename() It renames the output column.\n",
    "# axis =1 It specifies the axis along columns\n",
    "conversion_internet=store.internet.replace((unique_internet),(1,0))\n",
    "internet_con = pd.concat((store[['internet']],conversion_internet.rename('internet_output')),axis=1)\n",
    "internet_con.head()"
   ]
  },
  {
   "cell_type": "markdown",
   "id": "f6d03c19-cc4a-4375-940c-f1f1df1c0e39",
   "metadata": {
    "pycharm": {
     "name": "#%% md\n"
    }
   },
   "source": [
    "### For Romantic"
   ]
  },
  {
   "cell_type": "markdown",
   "id": "3d2ed56d-6fc3-4188-8588-fdd4a8dc3af1",
   "metadata": {
    "pycharm": {
     "name": "#%% md\n"
    }
   },
   "source": [
    "### Check unique values present inside column romantic"
   ]
  },
  {
   "cell_type": "code",
   "execution_count": 28,
   "id": "e1932a4a-2591-47a1-896a-93112cb164a6",
   "metadata": {
    "pycharm": {
     "name": "#%%\n"
    }
   },
   "outputs": [
    {
     "name": "stdout",
     "output_type": "stream",
     "text": [
      "['no' 'yes']\n"
     ]
    }
   ],
   "source": [
    "# unique() finds all the unique elements present in column 'romantic' and returns it in array\n",
    "unique_romantic=store.romantic.unique()\n",
    "print(unique_romantic)"
   ]
  },
  {
   "cell_type": "code",
   "execution_count": 29,
   "id": "3c4784d6-ec80-40b2-af93-f0d5f56b03c8",
   "metadata": {
    "pycharm": {
     "name": "#%%\n"
    }
   },
   "outputs": [
    {
     "data": {
      "text/plain": "  romantic  romantic_output\n0       no                1\n1       no                1\n2       no                1\n3      yes                0\n4       no                1",
      "text/html": "<div>\n<style scoped>\n    .dataframe tbody tr th:only-of-type {\n        vertical-align: middle;\n    }\n\n    .dataframe tbody tr th {\n        vertical-align: top;\n    }\n\n    .dataframe thead th {\n        text-align: right;\n    }\n</style>\n<table border=\"1\" class=\"dataframe\">\n  <thead>\n    <tr style=\"text-align: right;\">\n      <th></th>\n      <th>romantic</th>\n      <th>romantic_output</th>\n    </tr>\n  </thead>\n  <tbody>\n    <tr>\n      <th>0</th>\n      <td>no</td>\n      <td>1</td>\n    </tr>\n    <tr>\n      <th>1</th>\n      <td>no</td>\n      <td>1</td>\n    </tr>\n    <tr>\n      <th>2</th>\n      <td>no</td>\n      <td>1</td>\n    </tr>\n    <tr>\n      <th>3</th>\n      <td>yes</td>\n      <td>0</td>\n    </tr>\n    <tr>\n      <th>4</th>\n      <td>no</td>\n      <td>1</td>\n    </tr>\n  </tbody>\n</table>\n</div>"
     },
     "execution_count": 29,
     "metadata": {},
     "output_type": "execute_result"
    }
   ],
   "source": [
    "# replace() replaces unique values inside 'romantic' to binary values 0 or 1\n",
    "# concat() concatenates 'romantic' with 'romantic_output' column\n",
    "# rename() It renames the output column.\n",
    "# axis =1 It specifies the axis along columns\n",
    "conversion_romantic=store.romantic.replace((unique_romantic),(1,0))\n",
    "romantic_con = pd.concat((store[['romantic']],conversion_romantic.rename('romantic_output')),axis=1)\n",
    "romantic_con.head()"
   ]
  },
  {
   "cell_type": "markdown",
   "id": "68077ef7-4227-4469-a649-1a397477269c",
   "metadata": {
    "pycharm": {
     "name": "#%% md\n"
    }
   },
   "source": [
    "### b) Transformation of variables to ordinal numbers."
   ]
  },
  {
   "cell_type": "markdown",
   "id": "eca93691-4cf4-40d9-b708-1f5826649faa",
   "metadata": {
    "pycharm": {
     "name": "#%% md\n"
    }
   },
   "source": [
    "### Medu"
   ]
  },
  {
   "cell_type": "code",
   "execution_count": 30,
   "id": "ffa8f7fd-dfc2-44d8-8d84-56db7cd31d50",
   "metadata": {
    "pycharm": {
     "name": "#%%\n"
    }
   },
   "outputs": [
    {
     "data": {
      "text/plain": "array(['higher education', 'primary education (4th grade)',\n       'secondary education', '5th to 9th grade', 'none'], dtype=object)"
     },
     "execution_count": 30,
     "metadata": {},
     "output_type": "execute_result"
    }
   ],
   "source": [
    "# unique() finds all the unique elements present in column 'Medu' and returns it in NumPy array.\n",
    "unique_medu=store.Medu.unique()\n",
    "unique_medu"
   ]
  },
  {
   "cell_type": "code",
   "execution_count": 31,
   "id": "e2512e8a-0a11-4726-91f3-cef2354f2311",
   "metadata": {
    "pycharm": {
     "name": "#%%\n"
    }
   },
   "outputs": [
    {
     "data": {
      "text/plain": "                              Medu  Medu_output\n0                 higher education            0\n1    primary education (4th grade)            1\n2    primary education (4th grade)            1\n3                 higher education            0\n4              secondary education            2\n..                             ...          ...\n390               5th to 9th grade            3\n391            secondary education            2\n392  primary education (4th grade)            1\n393            secondary education            2\n394  primary education (4th grade)            1\n\n[395 rows x 2 columns]",
      "text/html": "<div>\n<style scoped>\n    .dataframe tbody tr th:only-of-type {\n        vertical-align: middle;\n    }\n\n    .dataframe tbody tr th {\n        vertical-align: top;\n    }\n\n    .dataframe thead th {\n        text-align: right;\n    }\n</style>\n<table border=\"1\" class=\"dataframe\">\n  <thead>\n    <tr style=\"text-align: right;\">\n      <th></th>\n      <th>Medu</th>\n      <th>Medu_output</th>\n    </tr>\n  </thead>\n  <tbody>\n    <tr>\n      <th>0</th>\n      <td>higher education</td>\n      <td>0</td>\n    </tr>\n    <tr>\n      <th>1</th>\n      <td>primary education (4th grade)</td>\n      <td>1</td>\n    </tr>\n    <tr>\n      <th>2</th>\n      <td>primary education (4th grade)</td>\n      <td>1</td>\n    </tr>\n    <tr>\n      <th>3</th>\n      <td>higher education</td>\n      <td>0</td>\n    </tr>\n    <tr>\n      <th>4</th>\n      <td>secondary education</td>\n      <td>2</td>\n    </tr>\n    <tr>\n      <th>...</th>\n      <td>...</td>\n      <td>...</td>\n    </tr>\n    <tr>\n      <th>390</th>\n      <td>5th to 9th grade</td>\n      <td>3</td>\n    </tr>\n    <tr>\n      <th>391</th>\n      <td>secondary education</td>\n      <td>2</td>\n    </tr>\n    <tr>\n      <th>392</th>\n      <td>primary education (4th grade)</td>\n      <td>1</td>\n    </tr>\n    <tr>\n      <th>393</th>\n      <td>secondary education</td>\n      <td>2</td>\n    </tr>\n    <tr>\n      <th>394</th>\n      <td>primary education (4th grade)</td>\n      <td>1</td>\n    </tr>\n  </tbody>\n</table>\n<p>395 rows × 2 columns</p>\n</div>"
     },
     "execution_count": 31,
     "metadata": {},
     "output_type": "execute_result"
    }
   ],
   "source": [
    "# replace() replaces unique values inside 'Medu' to multiple numerical values according to length of Column.\n",
    "# concat() concatenates 'romantic' with 'Medu_output' column\n",
    "# rename() It renames the output column.\n",
    "# axis =1 It specifies the axis along columns \n",
    "# append() It is used to append rows of one dataframe to the end of the other dataframe\n",
    "\n",
    "dynamic_range=[]\n",
    "for i in range(len(unique_medu)):\n",
    "    dynamic_range.append(i)\n",
    "conversion_medu=store.Medu.replace((unique_medu),(dynamic_range))\n",
    "medu_con = pd.concat((store[['Medu']],conversion_medu.rename('Medu_output')),axis=1)\n",
    "medu_con"
   ]
  },
  {
   "cell_type": "markdown",
   "id": "e700d7d0-abf5-492d-a83a-61102aeccd0b",
   "metadata": {
    "pycharm": {
     "name": "#%% md\n"
    }
   },
   "source": [
    "### Fedu"
   ]
  },
  {
   "cell_type": "code",
   "execution_count": 32,
   "id": "b3ec76ee-5e0e-40b9-a5d9-2a377c8c48e8",
   "metadata": {
    "pycharm": {
     "name": "#%%\n"
    }
   },
   "outputs": [
    {
     "data": {
      "text/plain": "array(['higher education', 'primary education (4th grade)',\n       '5th to 9th grade', 'secondary education', 'none'], dtype=object)"
     },
     "execution_count": 32,
     "metadata": {},
     "output_type": "execute_result"
    }
   ],
   "source": [
    "# unique() finds all the unique elements present in column 'Fedu' and returns it in NumPy array\n",
    "unique_fedu=store.Fedu.unique()\n",
    "unique_fedu"
   ]
  },
  {
   "cell_type": "code",
   "execution_count": 33,
   "id": "3d9c11d2-9c15-4519-9426-dd19de3b7ac3",
   "metadata": {
    "pycharm": {
     "name": "#%%\n"
    }
   },
   "outputs": [
    {
     "data": {
      "text/plain": "                              Fedu  Fedu_output\n0                 higher education            0\n1    primary education (4th grade)            1\n2    primary education (4th grade)            1\n3                 5th to 9th grade            2\n4              secondary education            3\n..                             ...          ...\n390               5th to 9th grade            2\n391  primary education (4th grade)            1\n392  primary education (4th grade)            1\n393               5th to 9th grade            2\n394  primary education (4th grade)            1\n\n[395 rows x 2 columns]",
      "text/html": "<div>\n<style scoped>\n    .dataframe tbody tr th:only-of-type {\n        vertical-align: middle;\n    }\n\n    .dataframe tbody tr th {\n        vertical-align: top;\n    }\n\n    .dataframe thead th {\n        text-align: right;\n    }\n</style>\n<table border=\"1\" class=\"dataframe\">\n  <thead>\n    <tr style=\"text-align: right;\">\n      <th></th>\n      <th>Fedu</th>\n      <th>Fedu_output</th>\n    </tr>\n  </thead>\n  <tbody>\n    <tr>\n      <th>0</th>\n      <td>higher education</td>\n      <td>0</td>\n    </tr>\n    <tr>\n      <th>1</th>\n      <td>primary education (4th grade)</td>\n      <td>1</td>\n    </tr>\n    <tr>\n      <th>2</th>\n      <td>primary education (4th grade)</td>\n      <td>1</td>\n    </tr>\n    <tr>\n      <th>3</th>\n      <td>5th to 9th grade</td>\n      <td>2</td>\n    </tr>\n    <tr>\n      <th>4</th>\n      <td>secondary education</td>\n      <td>3</td>\n    </tr>\n    <tr>\n      <th>...</th>\n      <td>...</td>\n      <td>...</td>\n    </tr>\n    <tr>\n      <th>390</th>\n      <td>5th to 9th grade</td>\n      <td>2</td>\n    </tr>\n    <tr>\n      <th>391</th>\n      <td>primary education (4th grade)</td>\n      <td>1</td>\n    </tr>\n    <tr>\n      <th>392</th>\n      <td>primary education (4th grade)</td>\n      <td>1</td>\n    </tr>\n    <tr>\n      <th>393</th>\n      <td>5th to 9th grade</td>\n      <td>2</td>\n    </tr>\n    <tr>\n      <th>394</th>\n      <td>primary education (4th grade)</td>\n      <td>1</td>\n    </tr>\n  </tbody>\n</table>\n<p>395 rows × 2 columns</p>\n</div>"
     },
     "execution_count": 33,
     "metadata": {},
     "output_type": "execute_result"
    }
   ],
   "source": [
    "# replace() replaces unique values inside 'Fedu' to multiple numerical values according to length of Column.\n",
    "# concat() concatenates 'romantic' with 'Fedu_output' column\n",
    "# rename() It renames the output column.\n",
    "# axis =1 It specifies the axis along columns \n",
    "# append() It is used to append rows of one dataframe to the end of the other dataframe\n",
    "\n",
    "dynamic_range_fedu=[]\n",
    "for i in range(len(unique_fedu)):\n",
    "    dynamic_range_fedu.append(i)\n",
    "conversion_fedu=store.Fedu.replace((unique_fedu),(dynamic_range_fedu))\n",
    "fedu_con = pd.concat((store[['Fedu']],conversion_fedu.rename('Fedu_output')),axis=1)\n",
    "fedu_con"
   ]
  },
  {
   "cell_type": "markdown",
   "id": "13891c0f-8115-4b7a-a692-b867ded601b0",
   "metadata": {
    "pycharm": {
     "name": "#%% md\n"
    }
   },
   "source": [
    "### Mjob"
   ]
  },
  {
   "cell_type": "code",
   "execution_count": 34,
   "id": "f0e2651f-22b7-4dc2-a0a7-0f68f2318347",
   "metadata": {
    "pycharm": {
     "name": "#%%\n"
    }
   },
   "outputs": [
    {
     "data": {
      "text/plain": "array(['at_home', 'health', 'other', 'services', 'teacher'], dtype=object)"
     },
     "execution_count": 34,
     "metadata": {},
     "output_type": "execute_result"
    }
   ],
   "source": [
    "# unique() finds all the unique elements present in column 'Mjob' and returns it in NumPy array\n",
    "unique_mjob=store.Mjob.unique()\n",
    "unique_mjob"
   ]
  },
  {
   "cell_type": "code",
   "execution_count": 35,
   "id": "035aa4aa-c6b0-41c6-8f07-e825c48ac8b3",
   "metadata": {
    "pycharm": {
     "name": "#%%\n"
    }
   },
   "outputs": [
    {
     "data": {
      "text/plain": "         Mjob  Mjob_output\n0     at_home            0\n1     at_home            0\n2     at_home            0\n3      health            1\n4       other            2\n..        ...          ...\n390  services            3\n391  services            3\n392     other            2\n393  services            3\n394     other            2\n\n[395 rows x 2 columns]",
      "text/html": "<div>\n<style scoped>\n    .dataframe tbody tr th:only-of-type {\n        vertical-align: middle;\n    }\n\n    .dataframe tbody tr th {\n        vertical-align: top;\n    }\n\n    .dataframe thead th {\n        text-align: right;\n    }\n</style>\n<table border=\"1\" class=\"dataframe\">\n  <thead>\n    <tr style=\"text-align: right;\">\n      <th></th>\n      <th>Mjob</th>\n      <th>Mjob_output</th>\n    </tr>\n  </thead>\n  <tbody>\n    <tr>\n      <th>0</th>\n      <td>at_home</td>\n      <td>0</td>\n    </tr>\n    <tr>\n      <th>1</th>\n      <td>at_home</td>\n      <td>0</td>\n    </tr>\n    <tr>\n      <th>2</th>\n      <td>at_home</td>\n      <td>0</td>\n    </tr>\n    <tr>\n      <th>3</th>\n      <td>health</td>\n      <td>1</td>\n    </tr>\n    <tr>\n      <th>4</th>\n      <td>other</td>\n      <td>2</td>\n    </tr>\n    <tr>\n      <th>...</th>\n      <td>...</td>\n      <td>...</td>\n    </tr>\n    <tr>\n      <th>390</th>\n      <td>services</td>\n      <td>3</td>\n    </tr>\n    <tr>\n      <th>391</th>\n      <td>services</td>\n      <td>3</td>\n    </tr>\n    <tr>\n      <th>392</th>\n      <td>other</td>\n      <td>2</td>\n    </tr>\n    <tr>\n      <th>393</th>\n      <td>services</td>\n      <td>3</td>\n    </tr>\n    <tr>\n      <th>394</th>\n      <td>other</td>\n      <td>2</td>\n    </tr>\n  </tbody>\n</table>\n<p>395 rows × 2 columns</p>\n</div>"
     },
     "execution_count": 35,
     "metadata": {},
     "output_type": "execute_result"
    }
   ],
   "source": [
    "# replace() replaces unique values inside 'Mjob' to multiple numerical values according to length of Column.\n",
    "# concat() concatenates 'romantic' with 'Mjob_output' column\n",
    "# rename() It renames the output column.\n",
    "# axis =1 It specifies the axis along columns \n",
    "# append() It is used to append rows of one dataframe to the end of the other dataframe\n",
    "\n",
    "dynamic_range_mjob=[]\n",
    "for i in range(len(unique_mjob)):\n",
    "    dynamic_range_mjob.append(i)\n",
    "conversion_mjob=store.Mjob.replace((unique_mjob),(dynamic_range_mjob))\n",
    "mjob_con = pd.concat((store[['Mjob']],conversion_mjob.rename('Mjob_output')),axis=1)\n",
    "mjob_con"
   ]
  },
  {
   "cell_type": "markdown",
   "id": "0cba2320-cdfa-41f7-b538-d18af568b847",
   "metadata": {
    "pycharm": {
     "name": "#%% md\n"
    }
   },
   "source": [
    "### Fjob"
   ]
  },
  {
   "cell_type": "code",
   "execution_count": 36,
   "id": "c5a5f07b-2f5d-4428-903b-f06670505bd9",
   "metadata": {
    "pycharm": {
     "name": "#%%\n"
    }
   },
   "outputs": [
    {
     "data": {
      "text/plain": "array(['teacher', 'other', 'services', 'health', 'at_home'], dtype=object)"
     },
     "execution_count": 36,
     "metadata": {},
     "output_type": "execute_result"
    }
   ],
   "source": [
    "# unique() finds all the unique elements present in column 'Fjob' and returns it in NumPy array\n",
    "unique_fjob=store.Fjob.unique()\n",
    "unique_fjob"
   ]
  },
  {
   "cell_type": "code",
   "execution_count": 37,
   "id": "807dbfb1-c952-4076-99dd-9e7f930b69e7",
   "metadata": {
    "pycharm": {
     "name": "#%%\n"
    }
   },
   "outputs": [
    {
     "data": {
      "text/plain": "         Fjob  Fjob_output\n0     teacher            0\n1       other            1\n2       other            1\n3    services            2\n4       other            1\n..        ...          ...\n390  services            2\n391  services            2\n392     other            1\n393     other            1\n394   at_home            4\n\n[395 rows x 2 columns]",
      "text/html": "<div>\n<style scoped>\n    .dataframe tbody tr th:only-of-type {\n        vertical-align: middle;\n    }\n\n    .dataframe tbody tr th {\n        vertical-align: top;\n    }\n\n    .dataframe thead th {\n        text-align: right;\n    }\n</style>\n<table border=\"1\" class=\"dataframe\">\n  <thead>\n    <tr style=\"text-align: right;\">\n      <th></th>\n      <th>Fjob</th>\n      <th>Fjob_output</th>\n    </tr>\n  </thead>\n  <tbody>\n    <tr>\n      <th>0</th>\n      <td>teacher</td>\n      <td>0</td>\n    </tr>\n    <tr>\n      <th>1</th>\n      <td>other</td>\n      <td>1</td>\n    </tr>\n    <tr>\n      <th>2</th>\n      <td>other</td>\n      <td>1</td>\n    </tr>\n    <tr>\n      <th>3</th>\n      <td>services</td>\n      <td>2</td>\n    </tr>\n    <tr>\n      <th>4</th>\n      <td>other</td>\n      <td>1</td>\n    </tr>\n    <tr>\n      <th>...</th>\n      <td>...</td>\n      <td>...</td>\n    </tr>\n    <tr>\n      <th>390</th>\n      <td>services</td>\n      <td>2</td>\n    </tr>\n    <tr>\n      <th>391</th>\n      <td>services</td>\n      <td>2</td>\n    </tr>\n    <tr>\n      <th>392</th>\n      <td>other</td>\n      <td>1</td>\n    </tr>\n    <tr>\n      <th>393</th>\n      <td>other</td>\n      <td>1</td>\n    </tr>\n    <tr>\n      <th>394</th>\n      <td>at_home</td>\n      <td>4</td>\n    </tr>\n  </tbody>\n</table>\n<p>395 rows × 2 columns</p>\n</div>"
     },
     "execution_count": 37,
     "metadata": {},
     "output_type": "execute_result"
    }
   ],
   "source": [
    "# replace() replaces unique values inside 'Fjob' to multiple numerical values according to length of Column.\n",
    "# concat() concatenates 'romantic' with 'Fjob_output' column\n",
    "# rename() It renames the output column.\n",
    "# axis =1 It specifies the axis along columns \n",
    "# append() It is used to append rows of one dataframe to the end of the other dataframe\n",
    "\n",
    "dynamic_range_fjob=[]\n",
    "for i in range(len(unique_fjob)):\n",
    "    dynamic_range_fjob.append(i)\n",
    "conversion_fjob=store.Fjob.replace((unique_fjob),(dynamic_range_fjob))\n",
    "fjob_con = pd.concat((store[['Fjob']],conversion_fjob.rename('Fjob_output')),axis=1)\n",
    "fjob_con"
   ]
  },
  {
   "cell_type": "markdown",
   "id": "c59882b5-a8f9-4721-a7e8-ebf25e74ae8b",
   "metadata": {
    "pycharm": {
     "name": "#%% md\n"
    }
   },
   "source": [
    "### Reason"
   ]
  },
  {
   "cell_type": "code",
   "execution_count": 38,
   "id": "d66338d7-b60c-4251-a827-a7627e3f9d9f",
   "metadata": {
    "pycharm": {
     "name": "#%%\n"
    }
   },
   "outputs": [
    {
     "data": {
      "text/plain": "array(['course', 'other', 'home', 'reputation'], dtype=object)"
     },
     "execution_count": 38,
     "metadata": {},
     "output_type": "execute_result"
    }
   ],
   "source": [
    "# unique() finds all the unique elements present in column 'Reason' and returns it in NumPy array\n",
    "unique_reason=store.reason.unique()\n",
    "unique_reason"
   ]
  },
  {
   "cell_type": "code",
   "execution_count": 39,
   "id": "5a283f6a-dc13-4ec0-af72-532c558e8218",
   "metadata": {
    "pycharm": {
     "name": "#%%\n"
    }
   },
   "outputs": [
    {
     "data": {
      "text/plain": "     reason  Reason_output\n0    course              0\n1    course              0\n2     other              1\n3      home              2\n4      home              2\n..      ...            ...\n390  course              0\n391  course              0\n392  course              0\n393  course              0\n394  course              0\n\n[395 rows x 2 columns]",
      "text/html": "<div>\n<style scoped>\n    .dataframe tbody tr th:only-of-type {\n        vertical-align: middle;\n    }\n\n    .dataframe tbody tr th {\n        vertical-align: top;\n    }\n\n    .dataframe thead th {\n        text-align: right;\n    }\n</style>\n<table border=\"1\" class=\"dataframe\">\n  <thead>\n    <tr style=\"text-align: right;\">\n      <th></th>\n      <th>reason</th>\n      <th>Reason_output</th>\n    </tr>\n  </thead>\n  <tbody>\n    <tr>\n      <th>0</th>\n      <td>course</td>\n      <td>0</td>\n    </tr>\n    <tr>\n      <th>1</th>\n      <td>course</td>\n      <td>0</td>\n    </tr>\n    <tr>\n      <th>2</th>\n      <td>other</td>\n      <td>1</td>\n    </tr>\n    <tr>\n      <th>3</th>\n      <td>home</td>\n      <td>2</td>\n    </tr>\n    <tr>\n      <th>4</th>\n      <td>home</td>\n      <td>2</td>\n    </tr>\n    <tr>\n      <th>...</th>\n      <td>...</td>\n      <td>...</td>\n    </tr>\n    <tr>\n      <th>390</th>\n      <td>course</td>\n      <td>0</td>\n    </tr>\n    <tr>\n      <th>391</th>\n      <td>course</td>\n      <td>0</td>\n    </tr>\n    <tr>\n      <th>392</th>\n      <td>course</td>\n      <td>0</td>\n    </tr>\n    <tr>\n      <th>393</th>\n      <td>course</td>\n      <td>0</td>\n    </tr>\n    <tr>\n      <th>394</th>\n      <td>course</td>\n      <td>0</td>\n    </tr>\n  </tbody>\n</table>\n<p>395 rows × 2 columns</p>\n</div>"
     },
     "execution_count": 39,
     "metadata": {},
     "output_type": "execute_result"
    }
   ],
   "source": [
    "# replace() replaces unique values inside 'Reason' to multiple numerical values according to length of Column.\n",
    "# concat() concatenates 'romantic' with 'Reason_output' column\n",
    "# rename() It renames the output column.\n",
    "# axis =1 It specifies the axis along columns \n",
    "# append() It is used to append rows of one dataframe to the end of the other dataframe\n",
    "\n",
    "dynamic_range_reason=[]\n",
    "for i in range(len(unique_reason)):\n",
    "    dynamic_range_reason.append(i)\n",
    "conversion_reason=store.reason.replace((unique_reason),(dynamic_range_reason))\n",
    "reason_con = pd.concat((store[['reason']],conversion_reason.rename('Reason_output')),axis=1)\n",
    "reason_con"
   ]
  },
  {
   "cell_type": "markdown",
   "id": "98c4dcd0-5f6c-45f7-a705-48795acf4b12",
   "metadata": {
    "pycharm": {
     "name": "#%% md\n"
    }
   },
   "source": [
    "### Guardian"
   ]
  },
  {
   "cell_type": "code",
   "execution_count": 40,
   "id": "110763e6-48d7-46e9-aab2-da4cc3f3a71b",
   "metadata": {
    "pycharm": {
     "name": "#%%\n"
    }
   },
   "outputs": [
    {
     "data": {
      "text/plain": "array(['mother', 'father', 'other'], dtype=object)"
     },
     "execution_count": 40,
     "metadata": {},
     "output_type": "execute_result"
    }
   ],
   "source": [
    "# unique() finds all the unique elements present in column 'Guardian' and returns it in NumPy array\n",
    "unique_guardian=store.guardian.unique()\n",
    "unique_guardian"
   ]
  },
  {
   "cell_type": "code",
   "execution_count": 41,
   "id": "61244deb-f6d3-446f-a59e-f387c1aa0d7f",
   "metadata": {
    "pycharm": {
     "name": "#%%\n"
    }
   },
   "outputs": [
    {
     "data": {
      "text/plain": "    guardian  Guardian_output\n0     mother                0\n1     father                1\n2     mother                0\n3     mother                0\n4     father                1\n..       ...              ...\n390    other                2\n391   mother                0\n392    other                2\n393   mother                0\n394   father                1\n\n[395 rows x 2 columns]",
      "text/html": "<div>\n<style scoped>\n    .dataframe tbody tr th:only-of-type {\n        vertical-align: middle;\n    }\n\n    .dataframe tbody tr th {\n        vertical-align: top;\n    }\n\n    .dataframe thead th {\n        text-align: right;\n    }\n</style>\n<table border=\"1\" class=\"dataframe\">\n  <thead>\n    <tr style=\"text-align: right;\">\n      <th></th>\n      <th>guardian</th>\n      <th>Guardian_output</th>\n    </tr>\n  </thead>\n  <tbody>\n    <tr>\n      <th>0</th>\n      <td>mother</td>\n      <td>0</td>\n    </tr>\n    <tr>\n      <th>1</th>\n      <td>father</td>\n      <td>1</td>\n    </tr>\n    <tr>\n      <th>2</th>\n      <td>mother</td>\n      <td>0</td>\n    </tr>\n    <tr>\n      <th>3</th>\n      <td>mother</td>\n      <td>0</td>\n    </tr>\n    <tr>\n      <th>4</th>\n      <td>father</td>\n      <td>1</td>\n    </tr>\n    <tr>\n      <th>...</th>\n      <td>...</td>\n      <td>...</td>\n    </tr>\n    <tr>\n      <th>390</th>\n      <td>other</td>\n      <td>2</td>\n    </tr>\n    <tr>\n      <th>391</th>\n      <td>mother</td>\n      <td>0</td>\n    </tr>\n    <tr>\n      <th>392</th>\n      <td>other</td>\n      <td>2</td>\n    </tr>\n    <tr>\n      <th>393</th>\n      <td>mother</td>\n      <td>0</td>\n    </tr>\n    <tr>\n      <th>394</th>\n      <td>father</td>\n      <td>1</td>\n    </tr>\n  </tbody>\n</table>\n<p>395 rows × 2 columns</p>\n</div>"
     },
     "execution_count": 41,
     "metadata": {},
     "output_type": "execute_result"
    }
   ],
   "source": [
    "# replace() replaces unique values inside 'Guardian' to multiple numerical values according to length of Column.\n",
    "# concat() concatenates 'romantic' with 'Guardian_output' column\n",
    "# rename() It renames the output column.\n",
    "# axis =1 It specifies the axis along columns \n",
    "# append() It is used to append rows of one dataframe to the end of the other dataframe\n",
    "\n",
    "dynamic_range_guardian=[]\n",
    "for i in range(len(unique_guardian)):\n",
    "    dynamic_range_guardian.append(i)\n",
    "conversion_guardian=store.guardian.replace((unique_guardian),(dynamic_range_guardian))\n",
    "guardian_con = pd.concat((store[['guardian']],conversion_guardian.rename('Guardian_output')),axis=1)\n",
    "guardian_con"
   ]
  },
  {
   "cell_type": "markdown",
   "id": "61498084-87ed-43b3-bc5f-6f34f504a835",
   "metadata": {
    "pycharm": {
     "name": "#%% md\n"
    }
   },
   "source": [
    "### Traveltime"
   ]
  },
  {
   "cell_type": "code",
   "execution_count": 42,
   "id": "612cfc7c-4e3b-47f0-a570-18b593605930",
   "metadata": {
    "pycharm": {
     "name": "#%%\n"
    }
   },
   "outputs": [
    {
     "data": {
      "text/plain": "array(['15 to 30 min.', '<15 min.', '30 min. to 1 hour', '>1 hour'],\n      dtype=object)"
     },
     "execution_count": 42,
     "metadata": {},
     "output_type": "execute_result"
    }
   ],
   "source": [
    "# unique() finds all the unique elements present in column 'Traveltime' and returns it in NumPy array\n",
    "unique_traveltime=store.traveltime.unique()\n",
    "unique_traveltime"
   ]
  },
  {
   "cell_type": "code",
   "execution_count": 43,
   "id": "84376a9f-14dd-488d-89a8-115fc9cf80ac",
   "metadata": {
    "pycharm": {
     "name": "#%%\n"
    }
   },
   "outputs": [
    {
     "data": {
      "text/plain": "            traveltime  TravelTime_output\n0        15 to 30 min.                  0\n1             <15 min.                  1\n2             <15 min.                  1\n3             <15 min.                  1\n4             <15 min.                  1\n..                 ...                ...\n390           <15 min.                  1\n391      15 to 30 min.                  0\n392           <15 min.                  1\n393  30 min. to 1 hour                  2\n394           <15 min.                  1\n\n[395 rows x 2 columns]",
      "text/html": "<div>\n<style scoped>\n    .dataframe tbody tr th:only-of-type {\n        vertical-align: middle;\n    }\n\n    .dataframe tbody tr th {\n        vertical-align: top;\n    }\n\n    .dataframe thead th {\n        text-align: right;\n    }\n</style>\n<table border=\"1\" class=\"dataframe\">\n  <thead>\n    <tr style=\"text-align: right;\">\n      <th></th>\n      <th>traveltime</th>\n      <th>TravelTime_output</th>\n    </tr>\n  </thead>\n  <tbody>\n    <tr>\n      <th>0</th>\n      <td>15 to 30 min.</td>\n      <td>0</td>\n    </tr>\n    <tr>\n      <th>1</th>\n      <td>&lt;15 min.</td>\n      <td>1</td>\n    </tr>\n    <tr>\n      <th>2</th>\n      <td>&lt;15 min.</td>\n      <td>1</td>\n    </tr>\n    <tr>\n      <th>3</th>\n      <td>&lt;15 min.</td>\n      <td>1</td>\n    </tr>\n    <tr>\n      <th>4</th>\n      <td>&lt;15 min.</td>\n      <td>1</td>\n    </tr>\n    <tr>\n      <th>...</th>\n      <td>...</td>\n      <td>...</td>\n    </tr>\n    <tr>\n      <th>390</th>\n      <td>&lt;15 min.</td>\n      <td>1</td>\n    </tr>\n    <tr>\n      <th>391</th>\n      <td>15 to 30 min.</td>\n      <td>0</td>\n    </tr>\n    <tr>\n      <th>392</th>\n      <td>&lt;15 min.</td>\n      <td>1</td>\n    </tr>\n    <tr>\n      <th>393</th>\n      <td>30 min. to 1 hour</td>\n      <td>2</td>\n    </tr>\n    <tr>\n      <th>394</th>\n      <td>&lt;15 min.</td>\n      <td>1</td>\n    </tr>\n  </tbody>\n</table>\n<p>395 rows × 2 columns</p>\n</div>"
     },
     "execution_count": 43,
     "metadata": {},
     "output_type": "execute_result"
    }
   ],
   "source": [
    "# replace() replaces unique values inside 'Traveltime' to multiple numerical values according to length of Column.\n",
    "# concat() concatenates 'romantic' with 'Traveltime_output' column\n",
    "# rename() It renames the output column.\n",
    "# axis =1 It specifies the axis along columns \n",
    "# append() It is used to append rows of one dataframe to the end of the other dataframe\n",
    "\n",
    "dynamic_range_traveltime=[]\n",
    "for i in range(len(unique_traveltime)):\n",
    "    dynamic_range_traveltime.append(i)\n",
    "conversion_traveltime=store.traveltime.replace((unique_traveltime),(dynamic_range_traveltime))\n",
    "traveltime_con = pd.concat((store[['traveltime']],conversion_traveltime.rename('TravelTime_output')),axis=1)\n",
    "traveltime_con"
   ]
  },
  {
   "cell_type": "markdown",
   "id": "064ac8ea-ad86-4c5c-a122-9d788c7c21c1",
   "metadata": {
    "pycharm": {
     "name": "#%% md\n"
    }
   },
   "source": [
    "### Studytime"
   ]
  },
  {
   "cell_type": "code",
   "execution_count": 44,
   "id": "70700b0d-4f77-466e-8241-678bbe56ddf7",
   "metadata": {
    "pycharm": {
     "name": "#%%\n"
    }
   },
   "outputs": [
    {
     "data": {
      "text/plain": "array(['2 to 5 hours', '5 to 10 hours', '<2 hours', '>10 hours'],\n      dtype=object)"
     },
     "execution_count": 44,
     "metadata": {},
     "output_type": "execute_result"
    }
   ],
   "source": [
    "# unique() finds all the unique elements present in column 'Studytime' and returns it in NumPy array\n",
    "unique_studytime=store.studytime.unique()\n",
    "unique_studytime"
   ]
  },
  {
   "cell_type": "code",
   "execution_count": 45,
   "id": "6df34074-c49b-4f55-920f-33c62e884f92",
   "metadata": {
    "pycharm": {
     "name": "#%%\n"
    }
   },
   "outputs": [
    {
     "data": {
      "text/plain": "         studytime  Studytime_output\n0     2 to 5 hours                 0\n1     2 to 5 hours                 0\n2     2 to 5 hours                 0\n3    5 to 10 hours                 1\n4     2 to 5 hours                 0\n..             ...               ...\n390   2 to 5 hours                 0\n391       <2 hours                 2\n392       <2 hours                 2\n393       <2 hours                 2\n394       <2 hours                 2\n\n[395 rows x 2 columns]",
      "text/html": "<div>\n<style scoped>\n    .dataframe tbody tr th:only-of-type {\n        vertical-align: middle;\n    }\n\n    .dataframe tbody tr th {\n        vertical-align: top;\n    }\n\n    .dataframe thead th {\n        text-align: right;\n    }\n</style>\n<table border=\"1\" class=\"dataframe\">\n  <thead>\n    <tr style=\"text-align: right;\">\n      <th></th>\n      <th>studytime</th>\n      <th>Studytime_output</th>\n    </tr>\n  </thead>\n  <tbody>\n    <tr>\n      <th>0</th>\n      <td>2 to 5 hours</td>\n      <td>0</td>\n    </tr>\n    <tr>\n      <th>1</th>\n      <td>2 to 5 hours</td>\n      <td>0</td>\n    </tr>\n    <tr>\n      <th>2</th>\n      <td>2 to 5 hours</td>\n      <td>0</td>\n    </tr>\n    <tr>\n      <th>3</th>\n      <td>5 to 10 hours</td>\n      <td>1</td>\n    </tr>\n    <tr>\n      <th>4</th>\n      <td>2 to 5 hours</td>\n      <td>0</td>\n    </tr>\n    <tr>\n      <th>...</th>\n      <td>...</td>\n      <td>...</td>\n    </tr>\n    <tr>\n      <th>390</th>\n      <td>2 to 5 hours</td>\n      <td>0</td>\n    </tr>\n    <tr>\n      <th>391</th>\n      <td>&lt;2 hours</td>\n      <td>2</td>\n    </tr>\n    <tr>\n      <th>392</th>\n      <td>&lt;2 hours</td>\n      <td>2</td>\n    </tr>\n    <tr>\n      <th>393</th>\n      <td>&lt;2 hours</td>\n      <td>2</td>\n    </tr>\n    <tr>\n      <th>394</th>\n      <td>&lt;2 hours</td>\n      <td>2</td>\n    </tr>\n  </tbody>\n</table>\n<p>395 rows × 2 columns</p>\n</div>"
     },
     "execution_count": 45,
     "metadata": {},
     "output_type": "execute_result"
    }
   ],
   "source": [
    "# replace() replaces unique values inside 'Studytime' to multiple numerical values according to length of Column.\n",
    "# concat() concatenates 'romantic' with 'Studytime_output' column\n",
    "# rename() It renames the output column.\n",
    "# axis =1 It specifies the axis along columns \n",
    "# append() It is used to append rows of one dataframe to the end of the other dataframe\n",
    "\n",
    "dynamic_range_studytime=[]\n",
    "for i in range(len(unique_studytime)):\n",
    "    dynamic_range_studytime.append(i)\n",
    "conversion_studytime=store.studytime.replace((unique_studytime),(dynamic_range_studytime))\n",
    "studytime_con = pd.concat((store[['studytime']],conversion_studytime.rename('Studytime_output')),axis=1)\n",
    "studytime_con"
   ]
  },
  {
   "cell_type": "markdown",
   "id": "14d072ae-6081-4f07-8b55-2599b53b2f74",
   "metadata": {
    "pycharm": {
     "name": "#%% md\n"
    }
   },
   "source": [
    "### Famrel"
   ]
  },
  {
   "cell_type": "code",
   "execution_count": 46,
   "id": "2cc46438-05a9-4cd4-9498-05f748652a39",
   "metadata": {
    "pycharm": {
     "name": "#%%\n"
    }
   },
   "outputs": [
    {
     "data": {
      "text/plain": "array(['very good', 'excellent', 'good', 'very bad', 'bad'], dtype=object)"
     },
     "execution_count": 46,
     "metadata": {},
     "output_type": "execute_result"
    }
   ],
   "source": [
    "# unique() finds all the unique elements present in column 'Famrel' and returns it in NumPy array\n",
    "unique_famrel=store.famrel.unique()\n",
    "unique_famrel"
   ]
  },
  {
   "cell_type": "code",
   "execution_count": 47,
   "id": "0351801f-162c-4149-94e3-29e74ea5d904",
   "metadata": {
    "pycharm": {
     "name": "#%%\n"
    }
   },
   "outputs": [
    {
     "data": {
      "text/plain": "        famrel  Famrel_output\n0    very good              0\n1    excellent              1\n2    very good              0\n3         good              2\n4    very good              0\n..         ...            ...\n390  excellent              1\n391        bad              4\n392  excellent              1\n393  very good              0\n394       good              2\n\n[395 rows x 2 columns]",
      "text/html": "<div>\n<style scoped>\n    .dataframe tbody tr th:only-of-type {\n        vertical-align: middle;\n    }\n\n    .dataframe tbody tr th {\n        vertical-align: top;\n    }\n\n    .dataframe thead th {\n        text-align: right;\n    }\n</style>\n<table border=\"1\" class=\"dataframe\">\n  <thead>\n    <tr style=\"text-align: right;\">\n      <th></th>\n      <th>famrel</th>\n      <th>Famrel_output</th>\n    </tr>\n  </thead>\n  <tbody>\n    <tr>\n      <th>0</th>\n      <td>very good</td>\n      <td>0</td>\n    </tr>\n    <tr>\n      <th>1</th>\n      <td>excellent</td>\n      <td>1</td>\n    </tr>\n    <tr>\n      <th>2</th>\n      <td>very good</td>\n      <td>0</td>\n    </tr>\n    <tr>\n      <th>3</th>\n      <td>good</td>\n      <td>2</td>\n    </tr>\n    <tr>\n      <th>4</th>\n      <td>very good</td>\n      <td>0</td>\n    </tr>\n    <tr>\n      <th>...</th>\n      <td>...</td>\n      <td>...</td>\n    </tr>\n    <tr>\n      <th>390</th>\n      <td>excellent</td>\n      <td>1</td>\n    </tr>\n    <tr>\n      <th>391</th>\n      <td>bad</td>\n      <td>4</td>\n    </tr>\n    <tr>\n      <th>392</th>\n      <td>excellent</td>\n      <td>1</td>\n    </tr>\n    <tr>\n      <th>393</th>\n      <td>very good</td>\n      <td>0</td>\n    </tr>\n    <tr>\n      <th>394</th>\n      <td>good</td>\n      <td>2</td>\n    </tr>\n  </tbody>\n</table>\n<p>395 rows × 2 columns</p>\n</div>"
     },
     "execution_count": 47,
     "metadata": {},
     "output_type": "execute_result"
    }
   ],
   "source": [
    "# replace() replaces unique values inside 'Famrel' to multiple numerical values according to length of Column.\n",
    "# concat() concatenates 'romantic' with 'Famrel_output' column\n",
    "# rename() It renames the output column.\n",
    "# axis =1 It specifies the axis along columns \n",
    "# append() It is used to append rows of one dataframe to the end of the other dataframe\n",
    "\n",
    "dynamic_range_famrel=[]\n",
    "for i in range(len(unique_famrel)):\n",
    "    dynamic_range_famrel.append(i)\n",
    "conversion_famrel=store.famrel.replace((unique_famrel),(dynamic_range_famrel))\n",
    "famrel_con = pd.concat((store[['famrel']],conversion_famrel.rename('Famrel_output')),axis=1)\n",
    "famrel_con"
   ]
  },
  {
   "cell_type": "markdown",
   "id": "baabe42d-66c8-4fb2-a4a9-5f81c4edb97b",
   "metadata": {
    "pycharm": {
     "name": "#%% md\n"
    }
   },
   "source": [
    "### Freetime"
   ]
  },
  {
   "cell_type": "code",
   "execution_count": 48,
   "id": "571bd063-403b-4fb4-b0b7-3d56dad0b550",
   "metadata": {
    "pycharm": {
     "name": "#%%\n"
    }
   },
   "outputs": [
    {
     "data": {
      "text/plain": "array(['medium', 'low', 'high', 'very low', 'very high'], dtype=object)"
     },
     "execution_count": 48,
     "metadata": {},
     "output_type": "execute_result"
    }
   ],
   "source": [
    "# unique() finds all the unique elements present in column 'Freetime' and returns it in NumPy array\n",
    "unique_freetime=store.freetime.unique()\n",
    "unique_freetime"
   ]
  },
  {
   "cell_type": "code",
   "execution_count": 49,
   "id": "cc8477cb-a764-4818-a054-30d052193904",
   "metadata": {
    "pycharm": {
     "name": "#%%\n"
    }
   },
   "outputs": [
    {
     "data": {
      "text/plain": "      freetime  Freetime_output\n0       medium                0\n1       medium                0\n2       medium                0\n3          low                1\n4       medium                0\n..         ...              ...\n390  very high                4\n391       high                2\n392  very high                4\n393       high                2\n394        low                1\n\n[395 rows x 2 columns]",
      "text/html": "<div>\n<style scoped>\n    .dataframe tbody tr th:only-of-type {\n        vertical-align: middle;\n    }\n\n    .dataframe tbody tr th {\n        vertical-align: top;\n    }\n\n    .dataframe thead th {\n        text-align: right;\n    }\n</style>\n<table border=\"1\" class=\"dataframe\">\n  <thead>\n    <tr style=\"text-align: right;\">\n      <th></th>\n      <th>freetime</th>\n      <th>Freetime_output</th>\n    </tr>\n  </thead>\n  <tbody>\n    <tr>\n      <th>0</th>\n      <td>medium</td>\n      <td>0</td>\n    </tr>\n    <tr>\n      <th>1</th>\n      <td>medium</td>\n      <td>0</td>\n    </tr>\n    <tr>\n      <th>2</th>\n      <td>medium</td>\n      <td>0</td>\n    </tr>\n    <tr>\n      <th>3</th>\n      <td>low</td>\n      <td>1</td>\n    </tr>\n    <tr>\n      <th>4</th>\n      <td>medium</td>\n      <td>0</td>\n    </tr>\n    <tr>\n      <th>...</th>\n      <td>...</td>\n      <td>...</td>\n    </tr>\n    <tr>\n      <th>390</th>\n      <td>very high</td>\n      <td>4</td>\n    </tr>\n    <tr>\n      <th>391</th>\n      <td>high</td>\n      <td>2</td>\n    </tr>\n    <tr>\n      <th>392</th>\n      <td>very high</td>\n      <td>4</td>\n    </tr>\n    <tr>\n      <th>393</th>\n      <td>high</td>\n      <td>2</td>\n    </tr>\n    <tr>\n      <th>394</th>\n      <td>low</td>\n      <td>1</td>\n    </tr>\n  </tbody>\n</table>\n<p>395 rows × 2 columns</p>\n</div>"
     },
     "execution_count": 49,
     "metadata": {},
     "output_type": "execute_result"
    }
   ],
   "source": [
    "# replace() replaces unique values inside 'Freetime' to multiple numerical values according to length of Column.\n",
    "# concat() concatenates 'romantic' with 'Freetime_output' column\n",
    "# rename() It renames the output column.\n",
    "# axis =1 It specifies the axis along columns \n",
    "# append() It is used to append rows of one dataframe to the end of the other dataframe\n",
    "\n",
    "dynamic_range_freetime=[]\n",
    "for i in range(len(unique_freetime)):\n",
    "    dynamic_range_freetime.append(i)\n",
    "conversion_freetime=store.freetime.replace((unique_freetime),(dynamic_range_freetime))\n",
    "freetime_con = pd.concat((store[['freetime']],conversion_freetime.rename('Freetime_output')),axis=1)\n",
    "freetime_con"
   ]
  },
  {
   "cell_type": "markdown",
   "id": "72de97e9-3014-4345-957a-f01805d102f1",
   "metadata": {
    "pycharm": {
     "name": "#%% md\n"
    }
   },
   "source": [
    "### Goout"
   ]
  },
  {
   "cell_type": "code",
   "execution_count": 50,
   "id": "0b8ef4e3-f8d3-4395-b1c1-11ab5fba5510",
   "metadata": {
    "pycharm": {
     "name": "#%%\n"
    }
   },
   "outputs": [
    {
     "data": {
      "text/plain": "array(['high', 'medium', 'low', 'very low', 'very high'], dtype=object)"
     },
     "execution_count": 50,
     "metadata": {},
     "output_type": "execute_result"
    }
   ],
   "source": [
    "# unique() finds all the unique elements present in column 'Goout' and returns it in NumPy array\n",
    "unique_goout=store.goout.unique()\n",
    "unique_goout"
   ]
  },
  {
   "cell_type": "code",
   "execution_count": 51,
   "id": "fe4ba713-ad39-47c7-ba7c-898d35544bdc",
   "metadata": {
    "pycharm": {
     "name": "#%%\n"
    }
   },
   "outputs": [
    {
     "data": {
      "text/plain": "         goout  Goout_output\n0         high             0\n1       medium             1\n2          low             2\n3          low             2\n4          low             2\n..         ...           ...\n390       high             0\n391  very high             4\n392     medium             1\n393   very low             3\n394     medium             1\n\n[395 rows x 2 columns]",
      "text/html": "<div>\n<style scoped>\n    .dataframe tbody tr th:only-of-type {\n        vertical-align: middle;\n    }\n\n    .dataframe tbody tr th {\n        vertical-align: top;\n    }\n\n    .dataframe thead th {\n        text-align: right;\n    }\n</style>\n<table border=\"1\" class=\"dataframe\">\n  <thead>\n    <tr style=\"text-align: right;\">\n      <th></th>\n      <th>goout</th>\n      <th>Goout_output</th>\n    </tr>\n  </thead>\n  <tbody>\n    <tr>\n      <th>0</th>\n      <td>high</td>\n      <td>0</td>\n    </tr>\n    <tr>\n      <th>1</th>\n      <td>medium</td>\n      <td>1</td>\n    </tr>\n    <tr>\n      <th>2</th>\n      <td>low</td>\n      <td>2</td>\n    </tr>\n    <tr>\n      <th>3</th>\n      <td>low</td>\n      <td>2</td>\n    </tr>\n    <tr>\n      <th>4</th>\n      <td>low</td>\n      <td>2</td>\n    </tr>\n    <tr>\n      <th>...</th>\n      <td>...</td>\n      <td>...</td>\n    </tr>\n    <tr>\n      <th>390</th>\n      <td>high</td>\n      <td>0</td>\n    </tr>\n    <tr>\n      <th>391</th>\n      <td>very high</td>\n      <td>4</td>\n    </tr>\n    <tr>\n      <th>392</th>\n      <td>medium</td>\n      <td>1</td>\n    </tr>\n    <tr>\n      <th>393</th>\n      <td>very low</td>\n      <td>3</td>\n    </tr>\n    <tr>\n      <th>394</th>\n      <td>medium</td>\n      <td>1</td>\n    </tr>\n  </tbody>\n</table>\n<p>395 rows × 2 columns</p>\n</div>"
     },
     "execution_count": 51,
     "metadata": {},
     "output_type": "execute_result"
    }
   ],
   "source": [
    "# replace() replaces unique values inside 'Goout' to multiple numerical values according to length of Column.\n",
    "# concat() concatenates 'romantic' with 'Goout_output' column\n",
    "# rename() It renames the output column.\n",
    "# axis =1 It specifies the axis along columns \n",
    "# append() It is used to append rows of one dataframe to the end of the other dataframe\n",
    "\n",
    "dynamic_range_goout=[]\n",
    "for i in range(len(unique_goout)):\n",
    "    dynamic_range_goout.append(i)\n",
    "conversion_goout=store.goout.replace((unique_goout),(dynamic_range_goout))\n",
    "traveltime_con = pd.concat((store[['goout']],conversion_goout.rename('Goout_output')),axis=1)\n",
    "traveltime_con"
   ]
  },
  {
   "cell_type": "markdown",
   "id": "7973a028-85b0-4a41-b570-0430da8f9ea3",
   "metadata": {
    "pycharm": {
     "name": "#%% md\n"
    }
   },
   "source": [
    "### Dalc"
   ]
  },
  {
   "cell_type": "code",
   "execution_count": 52,
   "id": "c24d7538-2e9e-4038-b83c-23f3eb27561c",
   "metadata": {
    "pycharm": {
     "name": "#%%\n"
    }
   },
   "outputs": [
    {
     "data": {
      "text/plain": "array(['very low', 'low', 'very high', 'medium', 'high'], dtype=object)"
     },
     "execution_count": 52,
     "metadata": {},
     "output_type": "execute_result"
    }
   ],
   "source": [
    "# unique() finds all the unique elements present in column 'Dalc' and returns it in NumPy array\n",
    "unique_dalc=store.Dalc.unique()\n",
    "unique_dalc"
   ]
  },
  {
   "cell_type": "code",
   "execution_count": 53,
   "id": "1db83c35-5f06-40a0-b7cd-ea9704f6297d",
   "metadata": {
    "pycharm": {
     "name": "#%%\n"
    }
   },
   "outputs": [
    {
     "data": {
      "text/plain": "         Dalc  Dalc_output\n0    very low            0\n1    very low            0\n2         low            1\n3    very low            0\n4    very low            0\n..        ...          ...\n390      high            4\n391    medium            3\n392    medium            3\n393    medium            3\n394    medium            3\n\n[395 rows x 2 columns]",
      "text/html": "<div>\n<style scoped>\n    .dataframe tbody tr th:only-of-type {\n        vertical-align: middle;\n    }\n\n    .dataframe tbody tr th {\n        vertical-align: top;\n    }\n\n    .dataframe thead th {\n        text-align: right;\n    }\n</style>\n<table border=\"1\" class=\"dataframe\">\n  <thead>\n    <tr style=\"text-align: right;\">\n      <th></th>\n      <th>Dalc</th>\n      <th>Dalc_output</th>\n    </tr>\n  </thead>\n  <tbody>\n    <tr>\n      <th>0</th>\n      <td>very low</td>\n      <td>0</td>\n    </tr>\n    <tr>\n      <th>1</th>\n      <td>very low</td>\n      <td>0</td>\n    </tr>\n    <tr>\n      <th>2</th>\n      <td>low</td>\n      <td>1</td>\n    </tr>\n    <tr>\n      <th>3</th>\n      <td>very low</td>\n      <td>0</td>\n    </tr>\n    <tr>\n      <th>4</th>\n      <td>very low</td>\n      <td>0</td>\n    </tr>\n    <tr>\n      <th>...</th>\n      <td>...</td>\n      <td>...</td>\n    </tr>\n    <tr>\n      <th>390</th>\n      <td>high</td>\n      <td>4</td>\n    </tr>\n    <tr>\n      <th>391</th>\n      <td>medium</td>\n      <td>3</td>\n    </tr>\n    <tr>\n      <th>392</th>\n      <td>medium</td>\n      <td>3</td>\n    </tr>\n    <tr>\n      <th>393</th>\n      <td>medium</td>\n      <td>3</td>\n    </tr>\n    <tr>\n      <th>394</th>\n      <td>medium</td>\n      <td>3</td>\n    </tr>\n  </tbody>\n</table>\n<p>395 rows × 2 columns</p>\n</div>"
     },
     "execution_count": 53,
     "metadata": {},
     "output_type": "execute_result"
    }
   ],
   "source": [
    "# replace() replaces unique values inside 'Dalc' to multiple numerical values according to length of Column.\n",
    "# concat() concatenates 'romantic' with 'Dalc_output' column\n",
    "# rename() It renames the output column.\n",
    "# axis =1 It specifies the axis along columns \n",
    "# append() It is used to append rows of one dataframe to the end of the other dataframe\n",
    "\n",
    "dynamic_range_dalc=[]\n",
    "for i in range(len(unique_dalc)):\n",
    "    dynamic_range_dalc.append(i)\n",
    "conversion_dalc=store.Dalc.replace((unique_dalc),(dynamic_range_dalc))\n",
    "dalc_con = pd.concat((store[['Dalc']],conversion_dalc.rename('Dalc_output')),axis=1)\n",
    "dalc_con"
   ]
  },
  {
   "cell_type": "markdown",
   "id": "23b782eb-ec3f-4e07-8c11-8e72a00d1603",
   "metadata": {
    "pycharm": {
     "name": "#%% md\n"
    }
   },
   "source": [
    "### Walc"
   ]
  },
  {
   "cell_type": "code",
   "execution_count": 54,
   "id": "de49efc0-8bb8-4656-8165-384d1b61733f",
   "metadata": {
    "pycharm": {
     "name": "#%%\n"
    }
   },
   "outputs": [
    {
     "data": {
      "text/plain": "array(['very low', 'medium', 'low', 'high', 'very high'], dtype=object)"
     },
     "execution_count": 54,
     "metadata": {},
     "output_type": "execute_result"
    }
   ],
   "source": [
    "# unique() finds all the unique elements present in column 'Walc' and returns it in NumPy array\n",
    "unique_walc=store.Walc.unique()\n",
    "unique_walc"
   ]
  },
  {
   "cell_type": "code",
   "execution_count": 55,
   "id": "77c09f3c-de25-4105-8e48-cecd28c43b58",
   "metadata": {
    "pycharm": {
     "name": "#%%\n"
    }
   },
   "outputs": [
    {
     "data": {
      "text/plain": "          Walc  Walc_output\n0     very low            0\n1     very low            0\n2       medium            1\n3     very low            0\n4          low            2\n..         ...          ...\n390  very high            4\n391       high            3\n392     medium            1\n393       high            3\n394     medium            1\n\n[395 rows x 2 columns]",
      "text/html": "<div>\n<style scoped>\n    .dataframe tbody tr th:only-of-type {\n        vertical-align: middle;\n    }\n\n    .dataframe tbody tr th {\n        vertical-align: top;\n    }\n\n    .dataframe thead th {\n        text-align: right;\n    }\n</style>\n<table border=\"1\" class=\"dataframe\">\n  <thead>\n    <tr style=\"text-align: right;\">\n      <th></th>\n      <th>Walc</th>\n      <th>Walc_output</th>\n    </tr>\n  </thead>\n  <tbody>\n    <tr>\n      <th>0</th>\n      <td>very low</td>\n      <td>0</td>\n    </tr>\n    <tr>\n      <th>1</th>\n      <td>very low</td>\n      <td>0</td>\n    </tr>\n    <tr>\n      <th>2</th>\n      <td>medium</td>\n      <td>1</td>\n    </tr>\n    <tr>\n      <th>3</th>\n      <td>very low</td>\n      <td>0</td>\n    </tr>\n    <tr>\n      <th>4</th>\n      <td>low</td>\n      <td>2</td>\n    </tr>\n    <tr>\n      <th>...</th>\n      <td>...</td>\n      <td>...</td>\n    </tr>\n    <tr>\n      <th>390</th>\n      <td>very high</td>\n      <td>4</td>\n    </tr>\n    <tr>\n      <th>391</th>\n      <td>high</td>\n      <td>3</td>\n    </tr>\n    <tr>\n      <th>392</th>\n      <td>medium</td>\n      <td>1</td>\n    </tr>\n    <tr>\n      <th>393</th>\n      <td>high</td>\n      <td>3</td>\n    </tr>\n    <tr>\n      <th>394</th>\n      <td>medium</td>\n      <td>1</td>\n    </tr>\n  </tbody>\n</table>\n<p>395 rows × 2 columns</p>\n</div>"
     },
     "execution_count": 55,
     "metadata": {},
     "output_type": "execute_result"
    }
   ],
   "source": [
    "# replace() replaces unique values inside 'Walc' to multiple numerical values according to length of Column.\n",
    "# concat() concatenates 'romantic' with 'Walc_output' column\n",
    "# rename() It renames the output column.\n",
    "# axis =1 It specifies the axis along columns \n",
    "# append() It is used to append rows of one dataframe to the end of the other dataframe\n",
    "\n",
    "dynamic_range_walc=[]\n",
    "for i in range(len(unique_walc)):\n",
    "    dynamic_range_walc.append(i)\n",
    "conversion_walc=store.Walc.replace((unique_walc),(dynamic_range_walc))\n",
    "walc_con = pd.concat((store[['Walc']],conversion_walc.rename('Walc_output')),axis=1)\n",
    "walc_con"
   ]
  },
  {
   "cell_type": "markdown",
   "id": "81ba2698-269c-46c6-a8d1-30138903865c",
   "metadata": {
    "pycharm": {
     "name": "#%% md\n"
    }
   },
   "source": [
    "### Health"
   ]
  },
  {
   "cell_type": "code",
   "execution_count": 56,
   "id": "04c18088-0013-4a16-9b53-08631ecf8230",
   "metadata": {
    "pycharm": {
     "name": "#%%\n"
    }
   },
   "outputs": [
    {
     "data": {
      "text/plain": "array(['good', 'excellent', 'very bad', 'bad', 'very good'], dtype=object)"
     },
     "execution_count": 56,
     "metadata": {},
     "output_type": "execute_result"
    }
   ],
   "source": [
    "# unique() finds all the unique elements present in column 'Health' and returns it in NumPy array\n",
    "unique_health=store.health.unique()\n",
    "unique_health"
   ]
  },
  {
   "cell_type": "code",
   "execution_count": 57,
   "id": "f9cb2793-0091-461e-9008-48ce962fd9c0",
   "metadata": {
    "pycharm": {
     "name": "#%%\n"
    }
   },
   "outputs": [
    {
     "data": {
      "text/plain": "        health  Health_output\n0         good              0\n1         good              0\n2         good              0\n3    excellent              1\n4    excellent              1\n..         ...            ...\n390  very good              4\n391        bad              3\n392       good              0\n393  excellent              1\n394  excellent              1\n\n[395 rows x 2 columns]",
      "text/html": "<div>\n<style scoped>\n    .dataframe tbody tr th:only-of-type {\n        vertical-align: middle;\n    }\n\n    .dataframe tbody tr th {\n        vertical-align: top;\n    }\n\n    .dataframe thead th {\n        text-align: right;\n    }\n</style>\n<table border=\"1\" class=\"dataframe\">\n  <thead>\n    <tr style=\"text-align: right;\">\n      <th></th>\n      <th>health</th>\n      <th>Health_output</th>\n    </tr>\n  </thead>\n  <tbody>\n    <tr>\n      <th>0</th>\n      <td>good</td>\n      <td>0</td>\n    </tr>\n    <tr>\n      <th>1</th>\n      <td>good</td>\n      <td>0</td>\n    </tr>\n    <tr>\n      <th>2</th>\n      <td>good</td>\n      <td>0</td>\n    </tr>\n    <tr>\n      <th>3</th>\n      <td>excellent</td>\n      <td>1</td>\n    </tr>\n    <tr>\n      <th>4</th>\n      <td>excellent</td>\n      <td>1</td>\n    </tr>\n    <tr>\n      <th>...</th>\n      <td>...</td>\n      <td>...</td>\n    </tr>\n    <tr>\n      <th>390</th>\n      <td>very good</td>\n      <td>4</td>\n    </tr>\n    <tr>\n      <th>391</th>\n      <td>bad</td>\n      <td>3</td>\n    </tr>\n    <tr>\n      <th>392</th>\n      <td>good</td>\n      <td>0</td>\n    </tr>\n    <tr>\n      <th>393</th>\n      <td>excellent</td>\n      <td>1</td>\n    </tr>\n    <tr>\n      <th>394</th>\n      <td>excellent</td>\n      <td>1</td>\n    </tr>\n  </tbody>\n</table>\n<p>395 rows × 2 columns</p>\n</div>"
     },
     "execution_count": 57,
     "metadata": {},
     "output_type": "execute_result"
    }
   ],
   "source": [
    "# replace() replaces unique values inside 'Health' to multiple numerical values according to length of Column.\n",
    "# concat() concatenates 'romantic' with 'Health_output' column\n",
    "# rename() It renames the output column.\n",
    "# axis =1 It specifies the axis along columns \n",
    "# append() It is used to append rows of one dataframe to the end of the other dataframe\n",
    "\n",
    "dynamic_range_health=[]\n",
    "for i in range(len(unique_health)):\n",
    "    dynamic_range_health.append(i)\n",
    "conversion_health=store.health.replace((unique_health),(dynamic_range_health))\n",
    "health_con = pd.concat((store[['health']],conversion_health.rename('Health_output')),axis=1)\n",
    "health_con"
   ]
  },
  {
   "cell_type": "markdown",
   "id": "120b9b26-52a8-4d31-95c8-41980878022f",
   "metadata": {
    "pycharm": {
     "name": "#%% md\n"
    }
   },
   "source": [
    "## 2. Data Transformation"
   ]
  },
  {
   "cell_type": "markdown",
   "id": "2bece2f9-5fcb-402f-aae3-57d69eadeb1e",
   "metadata": {
    "pycharm": {
     "name": "#%% md\n"
    }
   },
   "source": [
    "### c) Age category values based on age column data.  "
   ]
  },
  {
   "cell_type": "code",
   "execution_count": 58,
   "id": "1117b900-5187-44c2-9f88-229221fc9e7d",
   "metadata": {
    "pycharm": {
     "name": "#%%\n"
    }
   },
   "outputs": [],
   "source": [
    "# define a function \"ranges()\" and pass argument\n",
    "# apply if elseif conditions for dividing age into three category range\n",
    "\n",
    "def ranges(age):\n",
    "    if(age <=15):\n",
    "        return 1\n",
    "    elif(age<=18):\n",
    "        return 2\n",
    "    elif(age<=21):\n",
    "        return 3"
   ]
  },
  {
   "cell_type": "code",
   "execution_count": 59,
   "id": "36aabc92-3bc6-42e8-bbc4-b54dfb6ea5e6",
   "metadata": {
    "pycharm": {
     "name": "#%%\n"
    }
   },
   "outputs": [],
   "source": [
    "# create a new column \"age_category\" inside dataframe \"store\" \n",
    "# use apply() method to pass a function \n",
    "\n",
    "store['age_category'] = store['age'].apply(ranges)"
   ]
  },
  {
   "cell_type": "code",
   "execution_count": 60,
   "id": "56ab9c88-278b-4881-9703-3d9289c52c3e",
   "metadata": {
    "pycharm": {
     "name": "#%%\n"
    }
   },
   "outputs": [
    {
     "data": {
      "text/plain": "     age  age_category\n0     18           2.0\n1     17           2.0\n2     15           1.0\n3     15           1.0\n4     16           2.0\n..   ...           ...\n390   20           3.0\n391   17           2.0\n392   21           3.0\n393   18           2.0\n394   19           3.0\n\n[395 rows x 2 columns]",
      "text/html": "<div>\n<style scoped>\n    .dataframe tbody tr th:only-of-type {\n        vertical-align: middle;\n    }\n\n    .dataframe tbody tr th {\n        vertical-align: top;\n    }\n\n    .dataframe thead th {\n        text-align: right;\n    }\n</style>\n<table border=\"1\" class=\"dataframe\">\n  <thead>\n    <tr style=\"text-align: right;\">\n      <th></th>\n      <th>age</th>\n      <th>age_category</th>\n    </tr>\n  </thead>\n  <tbody>\n    <tr>\n      <th>0</th>\n      <td>18</td>\n      <td>2.0</td>\n    </tr>\n    <tr>\n      <th>1</th>\n      <td>17</td>\n      <td>2.0</td>\n    </tr>\n    <tr>\n      <th>2</th>\n      <td>15</td>\n      <td>1.0</td>\n    </tr>\n    <tr>\n      <th>3</th>\n      <td>15</td>\n      <td>1.0</td>\n    </tr>\n    <tr>\n      <th>4</th>\n      <td>16</td>\n      <td>2.0</td>\n    </tr>\n    <tr>\n      <th>...</th>\n      <td>...</td>\n      <td>...</td>\n    </tr>\n    <tr>\n      <th>390</th>\n      <td>20</td>\n      <td>3.0</td>\n    </tr>\n    <tr>\n      <th>391</th>\n      <td>17</td>\n      <td>2.0</td>\n    </tr>\n    <tr>\n      <th>392</th>\n      <td>21</td>\n      <td>3.0</td>\n    </tr>\n    <tr>\n      <th>393</th>\n      <td>18</td>\n      <td>2.0</td>\n    </tr>\n    <tr>\n      <th>394</th>\n      <td>19</td>\n      <td>3.0</td>\n    </tr>\n  </tbody>\n</table>\n<p>395 rows × 2 columns</p>\n</div>"
     },
     "execution_count": 60,
     "metadata": {},
     "output_type": "execute_result"
    }
   ],
   "source": [
    "store[['age', 'age_category']]"
   ]
  },
  {
   "cell_type": "markdown",
   "id": "b95b425c-8504-418d-9dcb-f9a9f7153ce0",
   "metadata": {
    "tags": [],
    "pycharm": {
     "name": "#%% md\n"
    }
   },
   "source": [
    "### d) To check result according to G3 value"
   ]
  },
  {
   "cell_type": "code",
   "execution_count": 61,
   "id": "f54eb300-031d-4635-a2a3-8c8e892fadb0",
   "metadata": {
    "pycharm": {
     "name": "#%%\n"
    }
   },
   "outputs": [],
   "source": [
    "# define a function \"result_check()\" and pass argument\n",
    "# apply if elseif conditions to check result according to G3 values.\n",
    "\n",
    "def result_check(G3):\n",
    "    if(G3<8):\n",
    "        return \"no\"\n",
    "    elif(G3>=8):\n",
    "        return \"yes\"    "
   ]
  },
  {
   "cell_type": "code",
   "execution_count": 62,
   "id": "048b428b-c57e-4f15-99ac-135393946be0",
   "metadata": {
    "pycharm": {
     "name": "#%%\n"
    }
   },
   "outputs": [],
   "source": [
    "# create a new column \"Passed\" inside dataframe \"store\" \n",
    "# use apply() method to pass a function\n",
    "\n",
    "store['Passed']=store['G3'].apply(result_check)"
   ]
  },
  {
   "cell_type": "code",
   "execution_count": 63,
   "id": "9666d5dd-033d-484f-9845-b2b315485539",
   "metadata": {
    "pycharm": {
     "name": "#%%\n"
    }
   },
   "outputs": [
    {
     "data": {
      "text/plain": "     G3 Passed\n0     6     no\n1     6     no\n2    10    yes\n3    15    yes\n4    10    yes\n..   ..    ...\n390   9    yes\n391  16    yes\n392   7     no\n393  10    yes\n394   9    yes\n\n[395 rows x 2 columns]",
      "text/html": "<div>\n<style scoped>\n    .dataframe tbody tr th:only-of-type {\n        vertical-align: middle;\n    }\n\n    .dataframe tbody tr th {\n        vertical-align: top;\n    }\n\n    .dataframe thead th {\n        text-align: right;\n    }\n</style>\n<table border=\"1\" class=\"dataframe\">\n  <thead>\n    <tr style=\"text-align: right;\">\n      <th></th>\n      <th>G3</th>\n      <th>Passed</th>\n    </tr>\n  </thead>\n  <tbody>\n    <tr>\n      <th>0</th>\n      <td>6</td>\n      <td>no</td>\n    </tr>\n    <tr>\n      <th>1</th>\n      <td>6</td>\n      <td>no</td>\n    </tr>\n    <tr>\n      <th>2</th>\n      <td>10</td>\n      <td>yes</td>\n    </tr>\n    <tr>\n      <th>3</th>\n      <td>15</td>\n      <td>yes</td>\n    </tr>\n    <tr>\n      <th>4</th>\n      <td>10</td>\n      <td>yes</td>\n    </tr>\n    <tr>\n      <th>...</th>\n      <td>...</td>\n      <td>...</td>\n    </tr>\n    <tr>\n      <th>390</th>\n      <td>9</td>\n      <td>yes</td>\n    </tr>\n    <tr>\n      <th>391</th>\n      <td>16</td>\n      <td>yes</td>\n    </tr>\n    <tr>\n      <th>392</th>\n      <td>7</td>\n      <td>no</td>\n    </tr>\n    <tr>\n      <th>393</th>\n      <td>10</td>\n      <td>yes</td>\n    </tr>\n    <tr>\n      <th>394</th>\n      <td>9</td>\n      <td>yes</td>\n    </tr>\n  </tbody>\n</table>\n<p>395 rows × 2 columns</p>\n</div>"
     },
     "execution_count": 63,
     "metadata": {},
     "output_type": "execute_result"
    }
   ],
   "source": [
    "store[['G3','Passed']]"
   ]
  },
  {
   "cell_type": "code",
   "execution_count": 64,
   "id": "e4721c54-31b4-4283-938e-362e40360d11",
   "metadata": {
    "pycharm": {
     "name": "#%%\n"
    }
   },
   "outputs": [
    {
     "data": {
      "text/plain": "              age    absences          G1          G2          G3\ncount  395.000000  395.000000  395.000000  395.000000  395.000000\nmean    16.696203    5.708861   10.908861   10.713924   10.415190\nstd      1.276043    8.003096    3.319195    3.761505    4.581443\nmin     15.000000    0.000000    3.000000    0.000000    0.000000\n25%     16.000000    0.000000    8.000000    9.000000    8.000000\n50%     17.000000    4.000000   11.000000   11.000000   11.000000\n75%     18.000000    8.000000   13.000000   13.000000   14.000000\nmax     22.000000   75.000000   19.000000   19.000000   20.000000",
      "text/html": "<div>\n<style scoped>\n    .dataframe tbody tr th:only-of-type {\n        vertical-align: middle;\n    }\n\n    .dataframe tbody tr th {\n        vertical-align: top;\n    }\n\n    .dataframe thead th {\n        text-align: right;\n    }\n</style>\n<table border=\"1\" class=\"dataframe\">\n  <thead>\n    <tr style=\"text-align: right;\">\n      <th></th>\n      <th>age</th>\n      <th>absences</th>\n      <th>G1</th>\n      <th>G2</th>\n      <th>G3</th>\n    </tr>\n  </thead>\n  <tbody>\n    <tr>\n      <th>count</th>\n      <td>395.000000</td>\n      <td>395.000000</td>\n      <td>395.000000</td>\n      <td>395.000000</td>\n      <td>395.000000</td>\n    </tr>\n    <tr>\n      <th>mean</th>\n      <td>16.696203</td>\n      <td>5.708861</td>\n      <td>10.908861</td>\n      <td>10.713924</td>\n      <td>10.415190</td>\n    </tr>\n    <tr>\n      <th>std</th>\n      <td>1.276043</td>\n      <td>8.003096</td>\n      <td>3.319195</td>\n      <td>3.761505</td>\n      <td>4.581443</td>\n    </tr>\n    <tr>\n      <th>min</th>\n      <td>15.000000</td>\n      <td>0.000000</td>\n      <td>3.000000</td>\n      <td>0.000000</td>\n      <td>0.000000</td>\n    </tr>\n    <tr>\n      <th>25%</th>\n      <td>16.000000</td>\n      <td>0.000000</td>\n      <td>8.000000</td>\n      <td>9.000000</td>\n      <td>8.000000</td>\n    </tr>\n    <tr>\n      <th>50%</th>\n      <td>17.000000</td>\n      <td>4.000000</td>\n      <td>11.000000</td>\n      <td>11.000000</td>\n      <td>11.000000</td>\n    </tr>\n    <tr>\n      <th>75%</th>\n      <td>18.000000</td>\n      <td>8.000000</td>\n      <td>13.000000</td>\n      <td>13.000000</td>\n      <td>14.000000</td>\n    </tr>\n    <tr>\n      <th>max</th>\n      <td>22.000000</td>\n      <td>75.000000</td>\n      <td>19.000000</td>\n      <td>19.000000</td>\n      <td>20.000000</td>\n    </tr>\n  </tbody>\n</table>\n</div>"
     },
     "execution_count": 64,
     "metadata": {},
     "output_type": "execute_result"
    }
   ],
   "source": [
    "store[['age','absences','G1','G2','G3']].describe()"
   ]
  },
  {
   "cell_type": "markdown",
   "id": "a82e7237-6b2c-4457-8f5e-6295981f7783",
   "metadata": {
    "pycharm": {
     "name": "#%% md\n"
    }
   },
   "source": [
    "## 3) Initial Data Analysis"
   ]
  },
  {
   "cell_type": "markdown",
   "id": "2e9b7d76-6106-473f-8c65-54935f8bc958",
   "metadata": {
    "pycharm": {
     "name": "#%% md\n"
    }
   },
   "source": [
    "### a) Summary statistics of different variables"
   ]
  },
  {
   "cell_type": "markdown",
   "id": "a72095fe-7b5c-4a0a-a847-b3ce54c19874",
   "metadata": {
    "pycharm": {
     "name": "#%% md\n"
    }
   },
   "source": [
    "## Summary statistics of Age"
   ]
  },
  {
   "cell_type": "code",
   "execution_count": 65,
   "id": "528fb4ed-caf8-41e8-ac98-7ae28e9b3c1e",
   "metadata": {
    "pycharm": {
     "name": "#%%\n"
    }
   },
   "outputs": [
    {
     "name": "stdout",
     "output_type": "stream",
     "text": [
      "Sum: 6595\n"
     ]
    }
   ],
   "source": [
    "# sum() It is used to return the sum of the values for the requested axis by the user.\n",
    "sum_age = store['age'].sum()\n",
    "print(\"Sum:\",sum_age)"
   ]
  },
  {
   "cell_type": "code",
   "execution_count": 66,
   "id": "98cef2e2-1503-423c-901e-6cc0e1d51ec0",
   "metadata": {
    "pycharm": {
     "name": "#%%\n"
    }
   },
   "outputs": [
    {
     "name": "stdout",
     "output_type": "stream",
     "text": [
      "Mean: 16.696202531645568\n"
     ]
    }
   ],
   "source": [
    "# mean() It is used to return the mean of the values for the requested axis.\n",
    "mean_age=store['age'].mean()\n",
    "print(\"Mean:\",mean_age)"
   ]
  },
  {
   "cell_type": "code",
   "execution_count": 67,
   "id": "fe45f9d2-96f9-4e9d-afba-4d08ea074476",
   "metadata": {
    "pycharm": {
     "name": "#%%\n"
    }
   },
   "outputs": [
    {
     "name": "stdout",
     "output_type": "stream",
     "text": [
      "Median: 17.0\n"
     ]
    }
   ],
   "source": [
    "# median() It returns the median of the values for the requested axis.\n",
    "median_age=store['age'].median()\n",
    "print(\"Median:\",median_age)"
   ]
  },
  {
   "cell_type": "code",
   "execution_count": 68,
   "id": "43c5ddf5-975a-4d0d-afa3-c24f13ddb255",
   "metadata": {
    "pycharm": {
     "name": "#%%\n"
    }
   },
   "outputs": [
    {
     "name": "stdout",
     "output_type": "stream",
     "text": [
      "Standard Deviation: 1.2760427246056245\n"
     ]
    }
   ],
   "source": [
    "# std() It defines function for calculating the standard deviation of the given set of numbers, DataFrame, column, and rows.\n",
    "age_std=store['age'].std()\n",
    "print(\"Standard Deviation:\",age_std)"
   ]
  },
  {
   "cell_type": "code",
   "execution_count": 69,
   "id": "9221abc0-a56e-4963-bedb-7f0b11ca44c8",
   "metadata": {
    "pycharm": {
     "name": "#%%\n"
    }
   },
   "outputs": [
    {
     "name": "stdout",
     "output_type": "stream",
     "text": [
      "Maximum: 22\n"
     ]
    }
   ],
   "source": [
    "# max() It returns the maximum of the values in the given series.\n",
    "age_max=store['age'].max()\n",
    "print(\"Maximum:\",age_max)"
   ]
  },
  {
   "cell_type": "code",
   "execution_count": 70,
   "id": "74b3dac0-2826-4c0e-bba2-00d51be038a3",
   "metadata": {
    "tags": [],
    "pycharm": {
     "name": "#%%\n"
    }
   },
   "outputs": [
    {
     "name": "stdout",
     "output_type": "stream",
     "text": [
      "Minimum: 15\n"
     ]
    }
   ],
   "source": [
    "# min() It returns the minimum of the values in the given series.\n",
    "age_minimum=store['age'].min()\n",
    "print(\"Minimum:\",age_minimum)"
   ]
  },
  {
   "cell_type": "markdown",
   "id": "0ecb4821-5ea2-4bdc-87b4-b1792a7cd293",
   "metadata": {
    "pycharm": {
     "name": "#%% md\n"
    }
   },
   "source": [
    "## Summary Statistics of Absences"
   ]
  },
  {
   "cell_type": "code",
   "execution_count": 71,
   "id": "d87c3671-30b7-42ba-aa6e-a59fe3e6ae1d",
   "metadata": {
    "tags": [],
    "pycharm": {
     "name": "#%%\n"
    }
   },
   "outputs": [
    {
     "name": "stdout",
     "output_type": "stream",
     "text": [
      "Sum: 2255\n"
     ]
    }
   ],
   "source": [
    "# sum() It is used to return the sum of the values for the requested axis by the user.\n",
    "sum_absences=store['absences'].sum() \n",
    "print(\"Sum:\",sum_absences)"
   ]
  },
  {
   "cell_type": "code",
   "execution_count": 72,
   "id": "81bc95b7-2bc8-4b4f-8c04-65c2c10d3cd4",
   "metadata": {
    "pycharm": {
     "name": "#%%\n"
    }
   },
   "outputs": [
    {
     "name": "stdout",
     "output_type": "stream",
     "text": [
      "Mean: 5.708860759493671\n"
     ]
    }
   ],
   "source": [
    "# mean() It is used to return the mean of the values for the requested axis.\n",
    "mean_absences=store['absences'].mean()\n",
    "print(\"Mean:\",mean_absences)"
   ]
  },
  {
   "cell_type": "code",
   "execution_count": 73,
   "id": "55164711-e13a-4a44-8d3d-bbcb4da2188f",
   "metadata": {
    "pycharm": {
     "name": "#%%\n"
    }
   },
   "outputs": [
    {
     "name": "stdout",
     "output_type": "stream",
     "text": [
      "Median: 4.0\n"
     ]
    }
   ],
   "source": [
    "# median() It returns the median of the values for the requested axis.\n",
    "median_absences=store['absences'].median()\n",
    "print(\"Median:\",median_absences)"
   ]
  },
  {
   "cell_type": "code",
   "execution_count": 74,
   "id": "e0186bfc-d3d8-4ae3-8612-570ea8518bf3",
   "metadata": {
    "pycharm": {
     "name": "#%%\n"
    }
   },
   "outputs": [
    {
     "name": "stdout",
     "output_type": "stream",
     "text": [
      "Standard Deviation: 8.003095687108177\n"
     ]
    }
   ],
   "source": [
    "# std() It defines function for calculating the standard deviation of the given set of numbers, DataFrame, column, and rows. \n",
    "absences_std=store['absences'].std()\n",
    "print(\"Standard Deviation:\",absences_std)"
   ]
  },
  {
   "cell_type": "code",
   "execution_count": 75,
   "id": "8c26dc3d-d30a-4e5f-8d92-8b5ff4d9d39d",
   "metadata": {
    "pycharm": {
     "name": "#%%\n"
    }
   },
   "outputs": [
    {
     "name": "stdout",
     "output_type": "stream",
     "text": [
      "Maximum: 75\n"
     ]
    }
   ],
   "source": [
    "# max() It returns the maximum of the values in the given series.\n",
    "absences_max=store['absences'].max()\n",
    "print(\"Maximum:\",absences_max)"
   ]
  },
  {
   "cell_type": "code",
   "execution_count": 76,
   "id": "d0693adf-4f12-4e14-a4b0-4e3cbe263e5c",
   "metadata": {
    "pycharm": {
     "name": "#%%\n"
    }
   },
   "outputs": [
    {
     "name": "stdout",
     "output_type": "stream",
     "text": [
      "Minimum: 0\n"
     ]
    }
   ],
   "source": [
    "# min() It returns the minimum of the values in the given series.\n",
    "absences_min=store['absences'].min()\n",
    "print(\"Minimum:\",absences_min)"
   ]
  },
  {
   "cell_type": "markdown",
   "id": "b5a8eaaf-c1c7-4824-a1b4-8549cc1f0740",
   "metadata": {
    "pycharm": {
     "name": "#%% md\n"
    }
   },
   "source": [
    "## Summary Statistics of G1"
   ]
  },
  {
   "cell_type": "code",
   "execution_count": 77,
   "id": "580fee43-8af8-4ce1-81dd-19a7e3218ed3",
   "metadata": {
    "pycharm": {
     "name": "#%%\n"
    }
   },
   "outputs": [
    {
     "name": "stdout",
     "output_type": "stream",
     "text": [
      "Sum: 4309\n"
     ]
    }
   ],
   "source": [
    "# sum() It is used to return the sum of the values for the requested axis by the user.\n",
    "sum_G1=store['G1'].sum()\n",
    "print(\"Sum:\",sum_G1)"
   ]
  },
  {
   "cell_type": "code",
   "execution_count": 78,
   "id": "00670d81-ad38-4c56-9238-62f2e6932761",
   "metadata": {
    "pycharm": {
     "name": "#%%\n"
    }
   },
   "outputs": [
    {
     "name": "stdout",
     "output_type": "stream",
     "text": [
      "Mean: 10.90886075949367\n"
     ]
    }
   ],
   "source": [
    "# mean() It is used to return the mean of the values for the requested axis.\n",
    "G1_mean=store['G1'].mean()\n",
    "print(\"Mean:\",G1_mean)"
   ]
  },
  {
   "cell_type": "code",
   "execution_count": 79,
   "id": "5e296597-8de0-4a1f-a541-3e0f37e84f6b",
   "metadata": {
    "pycharm": {
     "name": "#%%\n"
    }
   },
   "outputs": [
    {
     "name": "stdout",
     "output_type": "stream",
     "text": [
      "Median 11.0\n"
     ]
    }
   ],
   "source": [
    "# median() It returns the median of the values for the requested axis.\n",
    "G1_median=store['G1'].median()\n",
    "print(\"Median\",G1_median)"
   ]
  },
  {
   "cell_type": "code",
   "execution_count": 80,
   "id": "f0275d77-7d92-4474-826f-165fa83ed1aa",
   "metadata": {
    "pycharm": {
     "name": "#%%\n"
    }
   },
   "outputs": [
    {
     "name": "stdout",
     "output_type": "stream",
     "text": [
      "Standard Deviation: 3.3191946715076686\n"
     ]
    }
   ],
   "source": [
    "# std() It defines function for calculating the standard deviation of the given set of numbers, DataFrame, column, and rows.\n",
    "G1_std=store['G1'].std()\n",
    "print(\"Standard Deviation:\",G1_std)"
   ]
  },
  {
   "cell_type": "code",
   "execution_count": 81,
   "id": "5d85dff6-7c25-454c-bced-895b7b9d33a6",
   "metadata": {
    "tags": [],
    "pycharm": {
     "name": "#%%\n"
    }
   },
   "outputs": [
    {
     "name": "stdout",
     "output_type": "stream",
     "text": [
      "Maximum: 19\n"
     ]
    }
   ],
   "source": [
    "# max() It returns the maximum of the values in the given series.\n",
    "G1_max=store['G1'].max()\n",
    "print(\"Maximum:\",G1_max)"
   ]
  },
  {
   "cell_type": "code",
   "execution_count": 82,
   "id": "d59e7e12-6dce-43f0-8243-7da5925aafb7",
   "metadata": {
    "tags": [],
    "pycharm": {
     "name": "#%%\n"
    }
   },
   "outputs": [
    {
     "name": "stdout",
     "output_type": "stream",
     "text": [
      "Minimum: 3\n"
     ]
    }
   ],
   "source": [
    "# min() It returns the minimum of the values in the given series.\n",
    "G1_min=store['G1'].min()\n",
    "print(\"Minimum:\",G1_min)"
   ]
  },
  {
   "cell_type": "markdown",
   "id": "d7ec9740-dc46-45a1-97a5-3efa79d04bf1",
   "metadata": {
    "pycharm": {
     "name": "#%% md\n"
    }
   },
   "source": [
    "## Summary Statistics of G2"
   ]
  },
  {
   "cell_type": "code",
   "execution_count": 83,
   "id": "ca62b6b4-3378-406e-85d4-4f5215a5356f",
   "metadata": {
    "pycharm": {
     "name": "#%%\n"
    }
   },
   "outputs": [
    {
     "name": "stdout",
     "output_type": "stream",
     "text": [
      "Sum: 4232\n"
     ]
    }
   ],
   "source": [
    "# sum() It is used to return the sum of the values for the requested axis by the user.\n",
    "sum_G2=store['G2'].sum()\n",
    "print(\"Sum:\",sum_G2)"
   ]
  },
  {
   "cell_type": "code",
   "execution_count": 84,
   "id": "0852a622-d9c7-4ef7-8d96-a03ac55f5b91",
   "metadata": {
    "pycharm": {
     "name": "#%%\n"
    }
   },
   "outputs": [
    {
     "name": "stdout",
     "output_type": "stream",
     "text": [
      "Mean: 10.713924050632912\n"
     ]
    }
   ],
   "source": [
    "# mean() It is used to return the mean of the values for the requested axis.\n",
    "G2_mean=store['G2'].mean()\n",
    "print(\"Mean:\",G2_mean)"
   ]
  },
  {
   "cell_type": "code",
   "execution_count": 85,
   "id": "670c607e-6fb8-403f-a2d8-37120beebb24",
   "metadata": {
    "pycharm": {
     "name": "#%%\n"
    }
   },
   "outputs": [
    {
     "name": "stdout",
     "output_type": "stream",
     "text": [
      "Median: 11.0\n"
     ]
    }
   ],
   "source": [
    "# median() It returns the median of the values for the requested axis.\n",
    "G2_median=store['G2'].median()\n",
    "print(\"Median:\",G2_median)"
   ]
  },
  {
   "cell_type": "code",
   "execution_count": 86,
   "id": "9d0c48f5-3d30-4866-8269-464ca636391d",
   "metadata": {
    "pycharm": {
     "name": "#%%\n"
    }
   },
   "outputs": [
    {
     "name": "stdout",
     "output_type": "stream",
     "text": [
      "Standard Deviation: 3.761504659556034\n"
     ]
    }
   ],
   "source": [
    "# std() It defines function for calculating the standard deviation of the given set of numbers, DataFrame, column, and rows.\n",
    "G2_std=store['G2'].std()\n",
    "print(\"Standard Deviation:\",G2_std)"
   ]
  },
  {
   "cell_type": "code",
   "execution_count": 87,
   "id": "873b9175-f5f6-4626-acfc-2068e0517279",
   "metadata": {
    "pycharm": {
     "name": "#%%\n"
    }
   },
   "outputs": [
    {
     "name": "stdout",
     "output_type": "stream",
     "text": [
      "Maximum: 19\n"
     ]
    }
   ],
   "source": [
    "# max() It returns the maximum of the values in the given series.\n",
    "G2_max=store['G2'].max()\n",
    "print(\"Maximum:\",G2_max)"
   ]
  },
  {
   "cell_type": "code",
   "execution_count": 88,
   "id": "87c1100d-607b-4d3b-95d2-75b3dda77221",
   "metadata": {
    "pycharm": {
     "name": "#%%\n"
    }
   },
   "outputs": [
    {
     "name": "stdout",
     "output_type": "stream",
     "text": [
      "Minimum: 0\n"
     ]
    }
   ],
   "source": [
    "# min() It returns the minimum of the values in the given series.\n",
    "G2_min=store['G2'].min()\n",
    "print(\"Minimum:\",G2_min)"
   ]
  },
  {
   "cell_type": "markdown",
   "id": "876accd9-35cd-4759-b689-ecf3701a28fc",
   "metadata": {
    "pycharm": {
     "name": "#%% md\n"
    }
   },
   "source": [
    "## Summary Statistics of G3"
   ]
  },
  {
   "cell_type": "code",
   "execution_count": 89,
   "id": "fe001268-1914-4534-aed2-634e38a301af",
   "metadata": {
    "pycharm": {
     "name": "#%%\n"
    }
   },
   "outputs": [
    {
     "name": "stdout",
     "output_type": "stream",
     "text": [
      "Sum: 4114\n"
     ]
    }
   ],
   "source": [
    "# sum() It is used to return the sum of the values for the requested axis by the user.\n",
    "sum_G3=store['G3'].sum()\n",
    "print(\"Sum:\",sum_G3)"
   ]
  },
  {
   "cell_type": "code",
   "execution_count": 90,
   "id": "42ca0e18-ca80-42d4-8d2d-0d66bab89c99",
   "metadata": {
    "pycharm": {
     "name": "#%%\n"
    }
   },
   "outputs": [
    {
     "name": "stdout",
     "output_type": "stream",
     "text": [
      "Mean: 10.415189873417722\n"
     ]
    }
   ],
   "source": [
    "# mean() It is used to return the mean of the values for the requested axis.\n",
    "G3_mean=store['G3'].mean()\n",
    "print(\"Mean:\",G3_mean)"
   ]
  },
  {
   "cell_type": "code",
   "execution_count": 91,
   "id": "9816e312-7b79-479e-835d-217558c9d1f4",
   "metadata": {
    "pycharm": {
     "name": "#%%\n"
    }
   },
   "outputs": [
    {
     "name": "stdout",
     "output_type": "stream",
     "text": [
      "Median: 11.0\n"
     ]
    }
   ],
   "source": [
    "# median() It returns the median of the values for the requested axis.\n",
    "G3_median=store['G3'].median()\n",
    "print(\"Median:\",G3_median)"
   ]
  },
  {
   "cell_type": "code",
   "execution_count": 92,
   "id": "1641652d-2a64-4437-b019-6faeb05b92de",
   "metadata": {
    "pycharm": {
     "name": "#%%\n"
    }
   },
   "outputs": [
    {
     "name": "stdout",
     "output_type": "stream",
     "text": [
      "Standard Deviation: 4.5814426109978434\n"
     ]
    }
   ],
   "source": [
    "# std() It defines function for calculating the standard deviation of the given set of numbers, DataFrame, column, and rows.\n",
    "G3_std=store['G3'].std()\n",
    "print(\"Standard Deviation:\",G3_std)"
   ]
  },
  {
   "cell_type": "code",
   "execution_count": 93,
   "id": "404becf3-fab3-45f0-9187-cc5bf72ac764",
   "metadata": {
    "pycharm": {
     "name": "#%%\n"
    }
   },
   "outputs": [
    {
     "name": "stdout",
     "output_type": "stream",
     "text": [
      "Maximum: 20\n"
     ]
    }
   ],
   "source": [
    "# max() It returns the maximum of the values in the given series.\n",
    "G3_max=store['G3'].max()\n",
    "print(\"Maximum:\",G3_max)"
   ]
  },
  {
   "cell_type": "code",
   "execution_count": 94,
   "id": "dd5684d5-b167-492a-bdca-4cdbcd03a124",
   "metadata": {
    "pycharm": {
     "name": "#%%\n"
    }
   },
   "outputs": [
    {
     "name": "stdout",
     "output_type": "stream",
     "text": [
      "Minimum: 0\n"
     ]
    }
   ],
   "source": [
    "# min() It returns the minimum of the values in the given series.\n",
    "G3_min=store['G3'].min()\n",
    "print(\"Minimum:\",G3_min)"
   ]
  },
  {
   "cell_type": "markdown",
   "id": "71b42a70-3428-4cf2-81f6-12013f6f078c",
   "metadata": {
    "pycharm": {
     "name": "#%% md\n"
    }
   },
   "source": [
    "## b) Heatmap to display correlation between differnet variables"
   ]
  },
  {
   "cell_type": "code",
   "execution_count": 95,
   "id": "f1ed3aef-14ed-475c-9100-da38ebd2a209",
   "metadata": {
    "pycharm": {
     "name": "#%%\n"
    }
   },
   "outputs": [
    {
     "data": {
      "text/plain": "          absences  failures        G1        G2        G3\nabsences  1.000000  0.063726 -0.031003 -0.031777  0.034247\nfailures  0.063726  1.000000 -0.354718 -0.355896 -0.360415\nG1       -0.031003 -0.354718  1.000000  0.852118  0.801468\nG2       -0.031777 -0.355896  0.852118  1.000000  0.904868\nG3        0.034247 -0.360415  0.801468  0.904868  1.000000",
      "text/html": "<div>\n<style scoped>\n    .dataframe tbody tr th:only-of-type {\n        vertical-align: middle;\n    }\n\n    .dataframe tbody tr th {\n        vertical-align: top;\n    }\n\n    .dataframe thead th {\n        text-align: right;\n    }\n</style>\n<table border=\"1\" class=\"dataframe\">\n  <thead>\n    <tr style=\"text-align: right;\">\n      <th></th>\n      <th>absences</th>\n      <th>failures</th>\n      <th>G1</th>\n      <th>G2</th>\n      <th>G3</th>\n    </tr>\n  </thead>\n  <tbody>\n    <tr>\n      <th>absences</th>\n      <td>1.000000</td>\n      <td>0.063726</td>\n      <td>-0.031003</td>\n      <td>-0.031777</td>\n      <td>0.034247</td>\n    </tr>\n    <tr>\n      <th>failures</th>\n      <td>0.063726</td>\n      <td>1.000000</td>\n      <td>-0.354718</td>\n      <td>-0.355896</td>\n      <td>-0.360415</td>\n    </tr>\n    <tr>\n      <th>G1</th>\n      <td>-0.031003</td>\n      <td>-0.354718</td>\n      <td>1.000000</td>\n      <td>0.852118</td>\n      <td>0.801468</td>\n    </tr>\n    <tr>\n      <th>G2</th>\n      <td>-0.031777</td>\n      <td>-0.355896</td>\n      <td>0.852118</td>\n      <td>1.000000</td>\n      <td>0.904868</td>\n    </tr>\n    <tr>\n      <th>G3</th>\n      <td>0.034247</td>\n      <td>-0.360415</td>\n      <td>0.801468</td>\n      <td>0.904868</td>\n      <td>1.000000</td>\n    </tr>\n  </tbody>\n</table>\n</div>"
     },
     "execution_count": 95,
     "metadata": {},
     "output_type": "execute_result"
    }
   ],
   "source": [
    "correlations = store[['absences', 'failures', 'G1', 'G2', 'G3']].corr()\n",
    "correlations"
   ]
  },
  {
   "cell_type": "code",
   "execution_count": 96,
   "id": "fd9b7f8e-3c8f-491e-a403-3eca7cdd7561",
   "metadata": {
    "pycharm": {
     "name": "#%%\n"
    }
   },
   "outputs": [
    {
     "data": {
      "text/plain": "<AxesSubplot:>"
     },
     "execution_count": 96,
     "metadata": {},
     "output_type": "execute_result"
    },
    {
     "data": {
      "text/plain": "<Figure size 720x432 with 2 Axes>",
      "image/png": "[encoded data removed]"
     },
     "metadata": {},
     "output_type": "display_data"
    }
   ],
   "source": [
    "mpl.figure(figsize = (10,6)) # defining the figure size for heatmap\n",
    "sns.heatmap(correlations, annot = True, cmap = \"hot_r\")"
   ]
  },
  {
   "cell_type": "markdown",
   "id": "ca60d328-3a80-4492-b726-4a009aedb606",
   "metadata": {
    "tags": [],
    "pycharm": {
     "name": "#%% md\n"
    }
   },
   "source": [
    "## 4) Data Exploration & Visualizations"
   ]
  },
  {
   "cell_type": "markdown",
   "id": "ffa5f610-2a0d-49f6-ad4e-bb791568b9a1",
   "metadata": {
    "pycharm": {
     "name": "#%% md\n"
    }
   },
   "source": [
    "## a) Histogram Plots for Age"
   ]
  },
  {
   "cell_type": "code",
   "execution_count": 97,
   "id": "86e8d3b2-49de-44ab-af69-3c93bce98c87",
   "metadata": {
    "pycharm": {
     "name": "#%%\n"
    }
   },
   "outputs": [
    {
     "data": {
      "text/plain": "Text(0, 0.5, 'Total number of Students')"
     },
     "execution_count": 97,
     "metadata": {},
     "output_type": "execute_result"
    },
    {
     "data": {
      "text/plain": "<Figure size 504x288 with 1 Axes>",
      "image/png": "[encoded data removed]"
     },
     "metadata": {},
     "output_type": "display_data"
    }
   ],
   "source": [
    "mpl.figure(figsize=(7,4))\n",
    "mpl.hist(store['age'], edgecolor = \"black\",linewidth = 0.7, color = \"skyblue\",\n",
    "         bins = [i for i in range(store['age'].unique().min(),store['age'].unique().max()+1)])\n",
    "mpl.xticks([i for i in range(store['age'].unique().min(),store['age'].unique().max()+1)])\n",
    "mpl.xlabel(\"Students age variables\")\n",
    "mpl.ylabel(\"Total number of Students\")"
   ]
  },
  {
   "cell_type": "markdown",
   "id": "25fd07a8-ad37-4678-a3e7-a9f79f6f48e8",
   "metadata": {
    "pycharm": {
     "name": "#%% md\n"
    }
   },
   "source": [
    "## Histogram plots for Absenses"
   ]
  },
  {
   "cell_type": "code",
   "execution_count": 98,
   "id": "83bc4ba1-40e2-45f9-86f9-ca016c80bb4c",
   "metadata": {
    "pycharm": {
     "name": "#%%\n"
    }
   },
   "outputs": [
    {
     "data": {
      "text/plain": "Text(0, 0.5, 'Number of Students')"
     },
     "execution_count": 98,
     "metadata": {},
     "output_type": "execute_result"
    },
    {
     "data": {
      "text/plain": "<Figure size 504x288 with 1 Axes>",
      "image/png": "[encoded data removed]"
     },
     "metadata": {},
     "output_type": "display_data"
    }
   ],
   "source": [
    "mpl.figure(figsize=(7,4))\n",
    "mpl.hist(store['absences'], edgecolor = \"black\",linewidth = 0.7, color = \"pink\",\n",
    "         bins = [i for i in range(store['absences'].unique().min(),store['absences'].unique().max()+4,5)])\n",
    "mpl.xticks([i for i in range(store['absences'].unique().min(),store['absences'].unique().max()+4,5)])\n",
    "mpl.xlabel(\"Students absences variables\")\n",
    "mpl.ylabel(\"Number of Students\")"
   ]
  },
  {
   "cell_type": "markdown",
   "id": "ef2913e9-099b-4fe2-80e8-1c916ff8df1d",
   "metadata": {
    "pycharm": {
     "name": "#%% md\n"
    }
   },
   "source": [
    "## Histogram Plots of G3"
   ]
  },
  {
   "cell_type": "code",
   "execution_count": 99,
   "id": "72fe9d56-0a08-4b47-b7b6-4210fd9d06ba",
   "metadata": {
    "pycharm": {
     "name": "#%%\n"
    }
   },
   "outputs": [
    {
     "data": {
      "text/plain": "Text(0, 0.5, 'Number of Students')"
     },
     "execution_count": 99,
     "metadata": {},
     "output_type": "execute_result"
    },
    {
     "data": {
      "text/plain": "<Figure size 576x360 with 1 Axes>",
      "image/png": "[encoded data removed]"
     },
     "metadata": {},
     "output_type": "display_data"
    }
   ],
   "source": [
    "mpl.figure(figsize=(8,5))\n",
    "mpl.hist(store['G3'], edgecolor = \"black\",linewidth = 0.7, color = \"#FFFF00\",\n",
    "         bins = [i for i in range(store['G3'].unique().min(),store['G3'].unique().max()+1)])\n",
    "mpl.xticks([i for i in range(store['G3'].unique().min(),store['G3'].unique().max()+1)])\n",
    "mpl.xlabel(\"Students grades variables\")\n",
    "mpl.ylabel(\"Number of Students\")"
   ]
  },
  {
   "cell_type": "markdown",
   "id": "80eaa88f-e9f8-40d7-8103-d34c70f5a831",
   "metadata": {
    "pycharm": {
     "name": "#%% md\n"
    }
   },
   "source": [
    "## Boxplot for Age"
   ]
  },
  {
   "cell_type": "code",
   "execution_count": 100,
   "id": "d47785dc-98b5-4285-85e9-1552b971a411",
   "metadata": {
    "pycharm": {
     "name": "#%%\n"
    }
   },
   "outputs": [
    {
     "data": {
      "text/plain": "<AxesSubplot:title={'center':'Boxplot for age'}, xlabel='age'>"
     },
     "execution_count": 100,
     "metadata": {},
     "output_type": "execute_result"
    },
    {
     "data": {
      "text/plain": "<Figure size 432x288 with 1 Axes>",
      "image/png": "[encoded data removed]"
     },
     "metadata": {},
     "output_type": "display_data"
    }
   ],
   "source": [
    "sns.set(style='whitegrid')\n",
    "mpl.title('Boxplot for age')\n",
    "sns.boxplot(x=store[\"age\"])"
   ]
  },
  {
   "cell_type": "markdown",
   "id": "c9b3fe9b-45e0-452c-a546-1d1ed6b92655",
   "metadata": {
    "pycharm": {
     "name": "#%% md\n"
    }
   },
   "source": [
    "## Boxplot for Absences"
   ]
  },
  {
   "cell_type": "code",
   "execution_count": 101,
   "id": "f919822a-c456-4be2-8a15-0450246b30ea",
   "metadata": {
    "pycharm": {
     "name": "#%%\n"
    }
   },
   "outputs": [
    {
     "data": {
      "text/plain": "Text(0.5, 1.0, 'Boxplot for absences')"
     },
     "execution_count": 101,
     "metadata": {},
     "output_type": "execute_result"
    },
    {
     "data": {
      "text/plain": "<Figure size 432x288 with 1 Axes>",
      "image/png": "[encoded data removed]"
     },
     "metadata": {},
     "output_type": "display_data"
    }
   ],
   "source": [
    "sns.boxplot(x=store[\"absences\"])\n",
    "sns.set(style='white')\n",
    "mpl.title('Boxplot for absences')"
   ]
  },
  {
   "cell_type": "markdown",
   "id": "11f7d5c4-6206-46a1-a08d-1491b2c53ab1",
   "metadata": {
    "pycharm": {
     "name": "#%% md\n"
    }
   },
   "source": [
    "## Boxplot for G3"
   ]
  },
  {
   "cell_type": "code",
   "execution_count": 102,
   "id": "fc61b9fb-b006-44b4-a00e-40599a66e4a3",
   "metadata": {
    "pycharm": {
     "name": "#%%\n"
    }
   },
   "outputs": [
    {
     "data": {
      "text/plain": "Text(0.5, 1.0, 'Boxplot for G3')"
     },
     "execution_count": 102,
     "metadata": {},
     "output_type": "execute_result"
    },
    {
     "data": {
      "text/plain": "<Figure size 432x288 with 1 Axes>",
      "image/png": "[encoded data removed]"
     },
     "metadata": {},
     "output_type": "display_data"
    }
   ],
   "source": [
    "sns.boxplot(x=store[\"G3\"])\n",
    "sns.set(style='dark')\n",
    "mpl.title('Boxplot for G3')"
   ]
  },
  {
   "cell_type": "markdown",
   "id": "5eccf18d-1317-4570-803c-f98446799423",
   "metadata": {
    "pycharm": {
     "name": "#%% md\n"
    }
   },
   "source": [
    "## b) Bar graph of schools students passed on final term on the basis of schools"
   ]
  },
  {
   "cell_type": "code",
   "execution_count": 103,
   "id": "cac819e0-f1a3-4e2c-a30e-420e5c8a6a65",
   "metadata": {
    "pycharm": {
     "name": "#%%\n"
    }
   },
   "outputs": [
    {
     "data": {
      "text/plain": "(array([0, 1]), [Text(0, 0, 'GP'), Text(1, 0, 'MS')])"
     },
     "execution_count": 103,
     "metadata": {},
     "output_type": "execute_result"
    },
    {
     "data": {
      "text/plain": "<Figure size 432x360 with 1 Axes>",
      "image/png": "[encoded data removed]"
     },
     "metadata": {},
     "output_type": "display_data"
    }
   ],
   "source": [
    "std_pass_G3=mpl.subplots(figsize=(6,5))  # defining the figure size for bar graph\n",
    "store[store['Passed']=='yes'].groupby('school')['G3'].count().plot(kind =\"bar\",color =\"#E3E36A\")\n",
    "mpl.xlabel(\"Name of School\") # It provides horizontal label for graph\n",
    "mpl.ylabel(\"Passed Students\") # It provides vertical label for graph\n",
    "mpl.xticks(rotation=45)"
   ]
  },
  {
   "cell_type": "markdown",
   "id": "0ead06fc-dc53-4203-8619-a91f12e83970",
   "metadata": {
    "pycharm": {
     "name": "#%% md\n"
    }
   },
   "source": [
    "## c) Bar Graph of students failed on final term according to weekly study time"
   ]
  },
  {
   "cell_type": "code",
   "execution_count": 104,
   "id": "958551bf-9dcd-4256-b43e-8b4bb10cf83e",
   "metadata": {
    "pycharm": {
     "name": "#%%\n"
    }
   },
   "outputs": [
    {
     "data": {
      "text/plain": "(array([0, 1, 2, 3]),\n [Text(0, 0, '2 to 5 hours'),\n  Text(1, 0, '5 to 10 hours'),\n  Text(2, 0, '<2 hours'),\n  Text(3, 0, '>10 hours')])"
     },
     "execution_count": 104,
     "metadata": {},
     "output_type": "execute_result"
    },
    {
     "data": {
      "text/plain": "<Figure size 720x576 with 1 Axes>",
      "image/png": "[encoded data removed]"
     },
     "metadata": {},
     "output_type": "display_data"
    }
   ],
   "source": [
    "mpl.figure(figsize=(10,8)) # defining the figure size for bar graph\n",
    "store[store['Passed']=='no'].groupby('studytime')['G3'].count().plot(kind =\"bar\",color =\"green\")\n",
    "mpl.xlabel(\"Study time of Students\") # It provides horizontal label for graph\n",
    "mpl.ylabel(\"Failed Student's number\") # It provides vertical label for graph\n",
    "mpl.xticks(rotation=45)"
   ]
  },
  {
   "cell_type": "code",
   "execution_count": 104,
   "id": "084d14d1-1b0a-430f-8ff9-16b2ca3e3464",
   "metadata": {
    "pycharm": {
     "name": "#%%\n"
    }
   },
   "outputs": [],
   "source": []
  },
  {
   "cell_type": "markdown",
   "id": "135ad831-4e35-4327-9552-3fcb2bbca2d1",
   "metadata": {
    "pycharm": {
     "name": "#%% md\n"
    }
   },
   "source": [
    "# Further Analysis"
   ]
  },
  {
   "cell_type": "code",
   "execution_count": 105,
   "id": "4875d9b2-55a6-445d-9e22-a69bd6cf848a",
   "metadata": {
    "pycharm": {
     "name": "#%%\n"
    }
   },
   "outputs": [
    {
     "data": {
      "text/plain": "<matplotlib.legend.Legend at 0x1e317de91f0>"
     },
     "execution_count": 105,
     "metadata": {},
     "output_type": "execute_result"
    },
    {
     "data": {
      "text/plain": "<Figure size 504x432 with 1 Axes>",
      "image/png": "[encoded data removed]"
     },
     "metadata": {},
     "output_type": "display_data"
    }
   ],
   "source": [
    "pie, ax = mpl.subplots(figsize=[7,6])\n",
    "mpl.pie(store.groupby('address')['address'].count(),\n",
    "        labels = store.groupby('address')['address'].count().index, \n",
    "        colors = [\"#BA3424\", \"#BA8F24\"], autopct = \"%.2f%%\",\n",
    "        radius = 1,shadow=True)\n",
    "mpl.title(\"Student's grouped by Address\", fontsize=14)\n",
    "ax.legend(title=\"Address\",bbox_to_anchor =(1.25,1))"
   ]
  },
  {
   "cell_type": "code",
   "execution_count": 106,
   "id": "25bb0f89-809e-4292-8337-aad5e37b59fa",
   "metadata": {
    "pycharm": {
     "name": "#%%\n"
    }
   },
   "outputs": [
    {
     "data": {
      "text/plain": "<matplotlib.legend.Legend at 0x1e3181abf40>"
     },
     "execution_count": 106,
     "metadata": {},
     "output_type": "execute_result"
    },
    {
     "data": {
      "text/plain": "<Figure size 504x432 with 1 Axes>",
      "image/png": "[encoded data removed]"
     },
     "metadata": {},
     "output_type": "display_data"
    }
   ],
   "source": [
    "# autopct = it defines the number of decimals after the conversion into percentage. \n",
    "# radius = it creates a specific size pie chart with mentioned radius.\\\n",
    "# count() = it is used to count school column values groupedby . \n",
    "\n",
    "pie, ax = mpl.subplots(figsize=[7,6])\n",
    "mpl.pie(store.groupby('school')['school'].count(),\n",
    "        labels = store.groupby('school')['school'].count().index,\n",
    "        colors = [\"#30D3BD\", \"#EC31D2\"], autopct = \"%.2f%%\",radius = 1.2,shadow=True)\n",
    "mpl.title(\"Student's grouped by School\", fontsize=14)\n",
    "ax.legend(title=\"school\",bbox_to_anchor =(1.25,1))"
   ]
  },
  {
   "cell_type": "code",
   "execution_count": 107,
   "id": "3152b91f-0eb1-42be-a434-c5ea1e51e31a",
   "metadata": {
    "pycharm": {
     "name": "#%%\n"
    }
   },
   "outputs": [
    {
     "data": {
      "text/plain": "<matplotlib.legend.Legend at 0x1e3182886a0>"
     },
     "execution_count": 107,
     "metadata": {},
     "output_type": "execute_result"
    },
    {
     "data": {
      "text/plain": "<Figure size 504x432 with 1 Axes>",
      "image/png": "[encoded data removed]"
     },
     "metadata": {},
     "output_type": "display_data"
    }
   ],
   "source": [
    "# autopct = it defines the number of decimals after the conversion into percentage. \n",
    "# radius = it creates a specific size pie chart with mentioned radius.\n",
    "# count() = it is used to count column values groupedby. \n",
    "# shadow = it creates a sahdow outside the chart border.\n",
    "# index -> 'A' represents Apart and 'T' represents Living together.\n",
    "\n",
    "pie, ax = mpl.subplots(figsize=[7,6])\n",
    "mpl.pie(store.groupby('Pstatus')['Pstatus'].count(),\n",
    "        labels = store.groupby('Pstatus')['Pstatus'].count().index, \n",
    "        colors = [\"#30D3BD\", \"#EC31D2\"], autopct = \"%.2f%%\",radius = 1.2,shadow=True)\n",
    "mpl.title(\"Student's grouped by Parents cohabitation Status\", fontsize=14)\n",
    "ax.legend(title=\"Pstatus\",bbox_to_anchor =(1.25,1))"
   ]
  },
  {
   "cell_type": "code",
   "execution_count": 107,
   "id": "542ab7ae-1c0f-4e37-bdec-b9686dfae0e3",
   "metadata": {
    "pycharm": {
     "name": "#%%\n"
    }
   },
   "outputs": [],
   "source": []
  },
  {
   "cell_type": "markdown",
   "id": "cdbd432e-a2bf-4ab3-9a92-0bc0037c0e2e",
   "metadata": {
    "pycharm": {
     "name": "#%% md\n"
    }
   },
   "source": [
    "## Total number of Students result as per gender"
   ]
  },
  {
   "cell_type": "code",
   "execution_count": 108,
   "id": "750f124f-a18d-41c5-8f0d-6b3afcaabac8",
   "metadata": {
    "pycharm": {
     "name": "#%%\n"
    }
   },
   "outputs": [
    {
     "data": {
      "text/plain": "<Figure size 720x576 with 1 Axes>",
      "image/png": "[encoded data removed]"
     },
     "metadata": {},
     "output_type": "display_data"
    }
   ],
   "source": [
    "mpl.figure(figsize=(10,8))\n",
    "sns.set_theme(style=\"darkgrid\")\n",
    "result_gender=sns.countplot(x=\"sex\",data=store,hue=\"Passed\",palette=\"Set2\")\n",
    "result_gender.set(xlabel=\"Gender of students\",ylabel=\"Number of Students\")\n",
    "mpl.show()"
   ]
  },
  {
   "cell_type": "code",
   "execution_count": 108,
   "id": "f9974f73-326a-4abc-aca5-5a452d49a65e",
   "metadata": {
    "pycharm": {
     "name": "#%%\n"
    }
   },
   "outputs": [],
   "source": []
  },
  {
   "cell_type": "markdown",
   "id": "7470c12f-995c-492e-9462-66767b98d83a",
   "metadata": {
    "pycharm": {
     "name": "#%% md\n"
    }
   },
   "source": [
    "## Number of Students weekly study time with respect to failures according to gender "
   ]
  },
  {
   "cell_type": "code",
   "execution_count": 109,
   "id": "4781053a-c06c-4423-af5e-3b4ad558c29c",
   "metadata": {
    "pycharm": {
     "name": "#%%\n"
    }
   },
   "outputs": [
    {
     "data": {
      "text/plain": "<Figure size 768.85x720 with 4 Axes>",
      "image/png": "[encoded data removed]"
     },
     "metadata": {},
     "output_type": "display_data"
    }
   ],
   "source": [
    "studytime_failures = sns.catplot(x=\"failures\",hue=\"sex\", col=\"studytime\",col_wrap=2,\n",
    "                data=store, kind=\"count\",\n",
    "                height=5, aspect=1);"
   ]
  },
  {
   "cell_type": "code",
   "execution_count": 109,
   "id": "5c98efa1-5031-4f69-90e6-ebd9412d55b2",
   "metadata": {
    "pycharm": {
     "name": "#%%\n"
    }
   },
   "outputs": [],
   "source": []
  },
  {
   "cell_type": "markdown",
   "id": "63f2a715-aafc-4da0-8f41-df5a417eaa9b",
   "metadata": {
    "pycharm": {
     "name": "#%% md\n"
    }
   },
   "source": [
    "## Number of students and their father occupation according to Result"
   ]
  },
  {
   "cell_type": "code",
   "execution_count": 110,
   "id": "e6f210a8-da62-4bf4-8628-95a033210c22",
   "metadata": {
    "pycharm": {
     "name": "#%%\n"
    }
   },
   "outputs": [
    {
     "data": {
      "text/plain": "<Figure size 576x504 with 1 Axes>",
      "image/png": "[encoded data removed]"
     },
     "metadata": {},
     "output_type": "display_data"
    }
   ],
   "source": [
    "mpl.figure(figsize=(8,7))\n",
    "sns.set_theme(style=\"darkgrid\")\n",
    "fatherJob=sns.countplot(x=\"Fjob\",data=store,hue=\"Passed\",palette=\"Set2\")\n",
    "fatherJob.set(xlabel=\"Father Occupation\",ylabel=\"Number of Students\")\n",
    "mpl.show()"
   ]
  },
  {
   "cell_type": "code",
   "execution_count": 110,
   "id": "bec77687-f284-4915-b046-2828742cd919",
   "metadata": {
    "pycharm": {
     "name": "#%%\n"
    }
   },
   "outputs": [],
   "source": []
  },
  {
   "cell_type": "markdown",
   "id": "96b93100-5740-4896-9710-09087e8be25e",
   "metadata": {
    "pycharm": {
     "name": "#%% md\n"
    }
   },
   "source": [
    "## Number of students and their mother occupation according to Result"
   ]
  },
  {
   "cell_type": "code",
   "execution_count": 111,
   "id": "d3e43097-8ca5-4bb5-b487-6d415b9be150",
   "metadata": {
    "pycharm": {
     "name": "#%%\n"
    }
   },
   "outputs": [
    {
     "data": {
      "text/plain": "<Figure size 576x504 with 1 Axes>",
      "image/png": "[encoded data removed]"
     },
     "metadata": {},
     "output_type": "display_data"
    }
   ],
   "source": [
    "mpl.figure(figsize=(8,7))\n",
    "motherJob=sns.countplot(x=\"Mjob\",data=store,hue=\"Passed\",palette=\"Accent\")\n",
    "motherJob.set(xlabel=\"Mother Occupation\",ylabel=\"Number of Students\")\n",
    "mpl.show()"
   ]
  },
  {
   "cell_type": "code",
   "execution_count": 111,
   "id": "48d3472a-cd17-4602-9949-63f428d6d2ae",
   "metadata": {
    "pycharm": {
     "name": "#%%\n"
    }
   },
   "outputs": [],
   "source": []
  },
  {
   "cell_type": "markdown",
   "id": "de4a3af2-4c29-4e21-8b9e-6f16877ce632",
   "metadata": {
    "pycharm": {
     "name": "#%% md\n"
    }
   },
   "source": [
    "## Number of students according to Mothers job and family relationship"
   ]
  },
  {
   "cell_type": "code",
   "execution_count": 112,
   "id": "c75b0500-8f95-4fa1-8035-a2d89f821048",
   "metadata": {
    "pycharm": {
     "name": "#%%\n"
    }
   },
   "outputs": [
    {
     "data": {
      "text/plain": "<Figure size 648x504 with 1 Axes>",
      "image/png": "[encoded data removed]"
     },
     "metadata": {},
     "output_type": "display_data"
    }
   ],
   "source": [
    "famrel_mother=mpl.subplots(figsize=(9,7))\n",
    "famrel_mother=sns.countplot(x=\"famrel\",hue='Mjob',data=store,\n",
    "                            edgecolor=\"black\",palette='mako')\n",
    "famrel_mother.set_title('Mothers Job and Relationship with family',\n",
    "                        fontsize = 18, fontweight='bold' )\n",
    "famrel_mother.set_xlabel('Family Relationship', fontsize = 15)\n",
    "famrel_mother.set_ylabel('Number of students', fontsize = 15)\n",
    "\n",
    "mpl.show()"
   ]
  },
  {
   "cell_type": "code",
   "execution_count": 112,
   "id": "71093b7a-29be-4382-8efa-d1773c5c9e6b",
   "metadata": {
    "pycharm": {
     "name": "#%%\n"
    }
   },
   "outputs": [],
   "source": []
  },
  {
   "cell_type": "markdown",
   "id": "4a76932a-ec95-4514-b057-da41934f8e0c",
   "metadata": {
    "pycharm": {
     "name": "#%% md\n"
    }
   },
   "source": [
    "## Number of students according to father’s job and family relationship"
   ]
  },
  {
   "cell_type": "code",
   "execution_count": 113,
   "id": "a33be895-88cd-495e-83cc-fd976ae171ed",
   "metadata": {
    "pycharm": {
     "name": "#%%\n"
    }
   },
   "outputs": [
    {
     "data": {
      "text/plain": "<Figure size 576x504 with 1 Axes>",
      "image/png": "[encoded data removed]"
     },
     "metadata": {},
     "output_type": "display_data"
    }
   ],
   "source": [
    "# bbox_to_anchor = it specifies index position outside the graph.\n",
    "\n",
    "famrel_father=mpl.subplots(figsize=(8,7))\n",
    "famrel_father=sns.countplot(x=\"famrel\",hue='Fjob',data=store,\n",
    "                            edgecolor=\"black\",palette='pastel')\n",
    "famrel_father.set_title('Fathers Job and Relationship with family',\n",
    "                        fontsize = 18, fontweight='bold' )\n",
    "famrel_father.set_xlabel('Family Relationship', fontsize = 15)\n",
    "famrel_father.set_ylabel('Number of students', fontsize = 15)\n",
    "famrel_father.legend(fontsize = 12,bbox_to_anchor= (1.25,1),\n",
    "                     title=\"Fjob\",title_fontsize = 15);\n",
    "mpl.show()"
   ]
  },
  {
   "cell_type": "code",
   "execution_count": 113,
   "id": "4be1a23c-a7fe-429c-80c3-452ca32330f9",
   "metadata": {
    "pycharm": {
     "name": "#%%\n"
    }
   },
   "outputs": [],
   "source": []
  },
  {
   "cell_type": "markdown",
   "id": "d349d583-6e0c-4dba-b3f8-99875fb41c5d",
   "metadata": {
    "pycharm": {
     "name": "#%% md\n"
    }
   },
   "source": [
    "## Students final grade result according to father and mother education."
   ]
  },
  {
   "cell_type": "code",
   "execution_count": 114,
   "id": "a51b571f-47ef-48c0-b3f9-aad9ea2144c1",
   "metadata": {
    "pycharm": {
     "name": "#%%\n"
    }
   },
   "outputs": [
    {
     "data": {
      "text/plain": "<Figure size 864x576 with 2 Axes>",
      "image/png": "[encoded data removed]"
     },
     "metadata": {},
     "output_type": "display_data"
    }
   ],
   "source": [
    "f, axes = mpl.subplots(2,1,figsize=(12,8))\n",
    "family_result=sns.barplot(y=\"G3\",x=\"Medu\",data=store, hue=\"Passed\",ax=axes[0],ci=None,palette=\"seismic\")\n",
    "family_result.set(xlabel=\"Mother Education Details\",ylabel=\"Final Grades\")\n",
    "family_result=sns.barplot(y=\"G3\",x=\"Fedu\",data=store, hue=\"Passed\",ax=axes[1],ci=None,palette=\"copper\")\n",
    "family_result.set(xlabel=\"Father Education Details\",ylabel=\"Final Grades\")\n",
    "mpl.subplots_adjust(top=1)"
   ]
  },
  {
   "cell_type": "markdown",
   "id": "f459a0d1-daa3-4143-8f86-cc66eb9f4e4e",
   "metadata": {
    "pycharm": {
     "name": "#%% md\n"
    }
   },
   "source": [
    "## Result Analysis on basis of Internet "
   ]
  },
  {
   "cell_type": "code",
   "execution_count": 115,
   "id": "d211d362-cea6-4278-98fd-e06183dff80e",
   "metadata": {
    "pycharm": {
     "name": "#%%\n"
    }
   },
   "outputs": [
    {
     "data": {
      "text/plain": "<seaborn.axisgrid.FacetGrid at 0x1e31864f040>"
     },
     "execution_count": 115,
     "metadata": {},
     "output_type": "execute_result"
    },
    {
     "data": {
      "text/plain": "<Figure size 360x360 with 1 Axes>",
      "image/png": "[encoded data removed]"
     },
     "metadata": {},
     "output_type": "display_data"
    }
   ],
   "source": [
    "internet_analysis=sns.catplot(x=\"internet\", y=\"G3\", kind=\"box\",\n",
    "                              data=store,palette='Set3')\n",
    "internet_analysis.set(xlabel=\"internet\",ylabel=\"Final Grdae\")"
   ]
  },
  {
   "cell_type": "markdown",
   "id": "7fb9ec79-ffa8-4d9a-b5c4-ec77cec308eb",
   "metadata": {
    "pycharm": {
     "name": "#%% md\n"
    }
   },
   "source": [
    "## Attendance as per Sex with their Passed rate"
   ]
  },
  {
   "cell_type": "code",
   "execution_count": 116,
   "id": "7b24c0a9-b416-423e-b4b3-9d465e36e024",
   "metadata": {
    "pycharm": {
     "name": "#%%\n"
    }
   },
   "outputs": [
    {
     "data": {
      "text/plain": "<seaborn.axisgrid.FacetGrid at 0x1e3189e0df0>"
     },
     "execution_count": 116,
     "metadata": {},
     "output_type": "execute_result"
    },
    {
     "data": {
      "text/plain": "<Figure size 416.6x360 with 1 Axes>",
      "image/png": "[encoded data removed]"
     },
     "metadata": {},
     "output_type": "display_data"
    }
   ],
   "source": [
    "abesnces_sex=sns.catplot(x=\"sex\",y=\"absences\", data=store, \n",
    "                          kind=\"violin\",hue=\"Passed\",palette=\"Set1\")\n",
    "mpl.subplots_adjust(top=1)\n",
    "abesnces_sex.set(xlabel=\"Gender\",ylabel=\"Absence in Days\")"
   ]
  },
  {
   "cell_type": "markdown",
   "id": "f5c9f733-af20-4edd-9bde-dffb016ea09a",
   "metadata": {
    "pycharm": {
     "name": "#%% md\n"
    }
   },
   "source": [
    "## ECA of students as per their gender with pass rate"
   ]
  },
  {
   "cell_type": "code",
   "execution_count": 117,
   "id": "7fd9952f-85c6-452f-9348-24763f94c8c3",
   "metadata": {
    "pycharm": {
     "name": "#%%\n"
    }
   },
   "outputs": [
    {
     "data": {
      "text/plain": "<seaborn.axisgrid.FacetGrid at 0x1e318649a00>"
     },
     "execution_count": 117,
     "metadata": {},
     "output_type": "execute_result"
    },
    {
     "data": {
      "text/plain": "<Figure size 776.6x360 with 2 Axes>",
      "image/png": "[encoded data removed]"
     },
     "metadata": {},
     "output_type": "display_data"
    }
   ],
   "source": [
    "Eca_analysis=sns.catplot(x=\"sex\",y=\"G3\",data=store,kind=\"swarm\",\n",
    "                         col=\"activities\",hue=\"Passed\",palette=\"twilight\")\n",
    "mpl.subplots_adjust(top=1)\n",
    "Eca_analysis.set(xlabel=\"Gender\",ylabel=\"Final Grades\")"
   ]
  }
 ],
 "metadata": {
  "kernelspec": {
   "display_name": "Python 3",
   "language": "python",
   "name": "python3"
  },
  "language_info": {
   "codemirror_mode": {
    "name": "ipython",
    "version": 3
   },
   "file_extension": ".py",
   "mimetype": "text/x-python",
   "name": "python",
   "nbconvert_exporter": "python",
   "pygments_lexer": "ipython3",
   "version": "3.8.8"
  }
 },
 "nbformat": 4,
 "nbformat_minor": 5
}